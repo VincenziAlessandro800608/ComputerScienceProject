{
 "cells": [
  {
   "cell_type": "markdown",
   "metadata": {},
   "source": [
    "# Project of Foundations of Computer Science "
   ]
  },
  {
   "cell_type": "markdown",
   "metadata": {},
   "source": [
    "# Autore: Vincenzi Alessandro (matricola 800608)"
   ]
  },
  {
   "cell_type": "markdown",
   "metadata": {},
   "source": [
    "Il lavoro seguente mira ad esplorare 7 dataset contenuti nel database 'Additional kiva snapshot' e a soddisfare svariate query interamente in linguaggio python, all'interno dell'ambiente JupyterLab.\n",
    "\n",
    "Il database puoi trovarlo [qui](https://www.kaggle.com/gaborfodor/additional-kiva-snapshot)  \n",
    "\n",
    "Le tabelle relazionali (lenders.csv, loans.csv, loans_lenders.csv, country_stats.csv, GEconV4.csv, locations.csv, loan_coords.csv) non saranno tutte oggetto d'esame; esse offrono informazioni riguardo oltre 1.4 milioni di prestiti e quasi 1.4 milioni di finanziatori, provenienti da 91 diversi Stati. Così come suggerisce l'iterfaccia del software JupyterLab, il progetto si avvale di singole celle usate per implementare algoritmi che forniscono informazioni mirate o generali mediante singoli dati, dataframe oppure rappresentazioni grafiche.\n"
   ]
  },
  {
   "cell_type": "markdown",
   "metadata": {},
   "source": [
    "Il primo passo è quello di importare tutte le librerie necessarie, in quanto contenenti funzioni utili ad adempiere a determinate operazioni. Ad alcune di esse verranno assegnati dei diminutivi per agevolare e velocizzare il processo risolutivo."
   ]
  },
  {
   "cell_type": "code",
   "execution_count": 1,
   "metadata": {},
   "outputs": [],
   "source": [
    "import pandas as pd\n",
    "import numpy as np \n",
    "import autotime\n",
    "import seaborn as sea\n",
    "import matplotlib.pyplot as plt\n",
    "import time\n",
    "%load_ext autotime"
   ]
  },
  {
   "cell_type": "markdown",
   "metadata": {},
   "source": [
    "In seconda battuta si caricano i dataset che verranno presi in esame: 'country_stats', 'loans_lenders' e 'loans'. \n",
    "La lettura della porzione iniziale di ogni tabella è utile per conoscere il contenuto di ciascuna variabile e per individuare quelle colonne chiave che servono a fondere più dataset. "
   ]
  },
  {
   "cell_type": "code",
   "execution_count": 2,
   "metadata": {
    "collapsed": true,
    "jupyter": {
     "outputs_hidden": true
    }
   },
   "outputs": [
    {
     "data": {
      "text/html": [
       "<div>\n",
       "<style scoped>\n",
       "    .dataframe tbody tr th:only-of-type {\n",
       "        vertical-align: middle;\n",
       "    }\n",
       "\n",
       "    .dataframe tbody tr th {\n",
       "        vertical-align: top;\n",
       "    }\n",
       "\n",
       "    .dataframe thead th {\n",
       "        text-align: right;\n",
       "    }\n",
       "</style>\n",
       "<table border=\"1\" class=\"dataframe\">\n",
       "  <thead>\n",
       "    <tr style=\"text-align: right;\">\n",
       "      <th></th>\n",
       "      <th>country_name</th>\n",
       "      <th>country_code</th>\n",
       "      <th>country_code3</th>\n",
       "      <th>continent</th>\n",
       "      <th>region</th>\n",
       "      <th>population</th>\n",
       "      <th>population_below_poverty_line</th>\n",
       "      <th>hdi</th>\n",
       "      <th>life_expectancy</th>\n",
       "      <th>expected_years_of_schooling</th>\n",
       "      <th>mean_years_of_schooling</th>\n",
       "      <th>gni</th>\n",
       "      <th>kiva_country_name</th>\n",
       "    </tr>\n",
       "  </thead>\n",
       "  <tbody>\n",
       "    <tr>\n",
       "      <th>0</th>\n",
       "      <td>India</td>\n",
       "      <td>IN</td>\n",
       "      <td>IND</td>\n",
       "      <td>Asia</td>\n",
       "      <td>Southern Asia</td>\n",
       "      <td>1339180127</td>\n",
       "      <td>21.9</td>\n",
       "      <td>0.623559</td>\n",
       "      <td>68.322</td>\n",
       "      <td>11.696590</td>\n",
       "      <td>6.298834</td>\n",
       "      <td>5663.474799</td>\n",
       "      <td>India</td>\n",
       "    </tr>\n",
       "    <tr>\n",
       "      <th>1</th>\n",
       "      <td>Nigeria</td>\n",
       "      <td>NG</td>\n",
       "      <td>NGA</td>\n",
       "      <td>Africa</td>\n",
       "      <td>Western Africa</td>\n",
       "      <td>190886311</td>\n",
       "      <td>70.0</td>\n",
       "      <td>0.527105</td>\n",
       "      <td>53.057</td>\n",
       "      <td>9.970482</td>\n",
       "      <td>6.000000</td>\n",
       "      <td>5442.901264</td>\n",
       "      <td>Nigeria</td>\n",
       "    </tr>\n",
       "    <tr>\n",
       "      <th>2</th>\n",
       "      <td>Mexico</td>\n",
       "      <td>MX</td>\n",
       "      <td>MEX</td>\n",
       "      <td>Americas</td>\n",
       "      <td>Central America</td>\n",
       "      <td>129163276</td>\n",
       "      <td>46.2</td>\n",
       "      <td>0.761683</td>\n",
       "      <td>76.972</td>\n",
       "      <td>13.299090</td>\n",
       "      <td>8.554985</td>\n",
       "      <td>16383.106680</td>\n",
       "      <td>Mexico</td>\n",
       "    </tr>\n",
       "  </tbody>\n",
       "</table>\n",
       "</div>"
      ],
      "text/plain": [
       "  country_name country_code country_code3 continent           region  \\\n",
       "0        India           IN           IND      Asia    Southern Asia   \n",
       "1      Nigeria           NG           NGA    Africa   Western Africa   \n",
       "2       Mexico           MX           MEX  Americas  Central America   \n",
       "\n",
       "   population  population_below_poverty_line       hdi  life_expectancy  \\\n",
       "0  1339180127                           21.9  0.623559           68.322   \n",
       "1   190886311                           70.0  0.527105           53.057   \n",
       "2   129163276                           46.2  0.761683           76.972   \n",
       "\n",
       "   expected_years_of_schooling  mean_years_of_schooling           gni  \\\n",
       "0                    11.696590                 6.298834   5663.474799   \n",
       "1                     9.970482                 6.000000   5442.901264   \n",
       "2                    13.299090                 8.554985  16383.106680   \n",
       "\n",
       "  kiva_country_name  \n",
       "0             India  \n",
       "1           Nigeria  \n",
       "2            Mexico  "
      ]
     },
     "execution_count": 2,
     "metadata": {},
     "output_type": "execute_result"
    },
    {
     "name": "stdout",
     "output_type": "stream",
     "text": [
      "time: 75 ms\n"
     ]
    }
   ],
   "source": [
    "country=pd.read_csv('country_stats.csv')  \n",
    "country.head(3)"
   ]
  },
  {
   "cell_type": "code",
   "execution_count": 4,
   "metadata": {
    "collapsed": true,
    "jupyter": {
     "outputs_hidden": true
    }
   },
   "outputs": [
    {
     "data": {
      "text/html": [
       "<div>\n",
       "<style scoped>\n",
       "    .dataframe tbody tr th:only-of-type {\n",
       "        vertical-align: middle;\n",
       "    }\n",
       "\n",
       "    .dataframe tbody tr th {\n",
       "        vertical-align: top;\n",
       "    }\n",
       "\n",
       "    .dataframe thead th {\n",
       "        text-align: right;\n",
       "    }\n",
       "</style>\n",
       "<table border=\"1\" class=\"dataframe\">\n",
       "  <thead>\n",
       "    <tr style=\"text-align: right;\">\n",
       "      <th></th>\n",
       "      <th>loan_id</th>\n",
       "      <th>lenders</th>\n",
       "    </tr>\n",
       "  </thead>\n",
       "  <tbody>\n",
       "    <tr>\n",
       "      <th>0</th>\n",
       "      <td>483693</td>\n",
       "      <td>muc888, sam4326, camaran3922, lachheb1865, reb...</td>\n",
       "    </tr>\n",
       "    <tr>\n",
       "      <th>1</th>\n",
       "      <td>483738</td>\n",
       "      <td>muc888, nora3555, williammanashi, barbara5610,...</td>\n",
       "    </tr>\n",
       "    <tr>\n",
       "      <th>2</th>\n",
       "      <td>485000</td>\n",
       "      <td>muc888, terrystl, richardandsusan8352, sherri4...</td>\n",
       "    </tr>\n",
       "  </tbody>\n",
       "</table>\n",
       "</div>"
      ],
      "text/plain": [
       "   loan_id                                            lenders\n",
       "0   483693  muc888, sam4326, camaran3922, lachheb1865, reb...\n",
       "1   483738  muc888, nora3555, williammanashi, barbara5610,...\n",
       "2   485000  muc888, terrystl, richardandsusan8352, sherri4..."
      ]
     },
     "execution_count": 4,
     "metadata": {},
     "output_type": "execute_result"
    },
    {
     "name": "stdout",
     "output_type": "stream",
     "text": [
      "time: 10.6 s\n"
     ]
    }
   ],
   "source": [
    "lender=pd.read_csv(\"loans_lenders.csv\")   #1387432 righe\n",
    "lender.head(3)"
   ]
  },
  {
   "cell_type": "code",
   "execution_count": 5,
   "metadata": {},
   "outputs": [
    {
     "data": {
      "text/html": [
       "<div>\n",
       "<style scoped>\n",
       "    .dataframe tbody tr th:only-of-type {\n",
       "        vertical-align: middle;\n",
       "    }\n",
       "\n",
       "    .dataframe tbody tr th {\n",
       "        vertical-align: top;\n",
       "    }\n",
       "\n",
       "    .dataframe thead th {\n",
       "        text-align: right;\n",
       "    }\n",
       "</style>\n",
       "<table border=\"1\" class=\"dataframe\">\n",
       "  <thead>\n",
       "    <tr style=\"text-align: right;\">\n",
       "      <th></th>\n",
       "      <th>loan_id</th>\n",
       "      <th>loan_name</th>\n",
       "      <th>original_language</th>\n",
       "      <th>description</th>\n",
       "      <th>description_translated</th>\n",
       "      <th>funded_amount</th>\n",
       "      <th>loan_amount</th>\n",
       "      <th>status</th>\n",
       "      <th>activity_name</th>\n",
       "      <th>sector_name</th>\n",
       "      <th>...</th>\n",
       "      <th>raised_time</th>\n",
       "      <th>lender_term</th>\n",
       "      <th>num_lenders_total</th>\n",
       "      <th>num_journal_entries</th>\n",
       "      <th>num_bulk_entries</th>\n",
       "      <th>tags</th>\n",
       "      <th>borrower_genders</th>\n",
       "      <th>borrower_pictured</th>\n",
       "      <th>repayment_interval</th>\n",
       "      <th>distribution_model</th>\n",
       "    </tr>\n",
       "  </thead>\n",
       "  <tbody>\n",
       "    <tr>\n",
       "      <th>0</th>\n",
       "      <td>657307</td>\n",
       "      <td>Aivy</td>\n",
       "      <td>English</td>\n",
       "      <td>Aivy, 21 years of age, is single and lives in ...</td>\n",
       "      <td>NaN</td>\n",
       "      <td>125.0</td>\n",
       "      <td>125.0</td>\n",
       "      <td>funded</td>\n",
       "      <td>General Store</td>\n",
       "      <td>Retail</td>\n",
       "      <td>...</td>\n",
       "      <td>2014-01-15 04:48:22.000 +0000</td>\n",
       "      <td>7.0</td>\n",
       "      <td>3</td>\n",
       "      <td>2</td>\n",
       "      <td>1</td>\n",
       "      <td>NaN</td>\n",
       "      <td>female</td>\n",
       "      <td>true</td>\n",
       "      <td>irregular</td>\n",
       "      <td>field_partner</td>\n",
       "    </tr>\n",
       "    <tr>\n",
       "      <th>1</th>\n",
       "      <td>657259</td>\n",
       "      <td>Idalia Marizza</td>\n",
       "      <td>Spanish</td>\n",
       "      <td>Doña Idalia, esta casada, tiene 57 años de eda...</td>\n",
       "      <td>Idalia, 57, is married and lives with her husb...</td>\n",
       "      <td>400.0</td>\n",
       "      <td>400.0</td>\n",
       "      <td>funded</td>\n",
       "      <td>Used Clothing</td>\n",
       "      <td>Clothing</td>\n",
       "      <td>...</td>\n",
       "      <td>2014-02-25 06:42:06.000 +0000</td>\n",
       "      <td>8.0</td>\n",
       "      <td>11</td>\n",
       "      <td>2</td>\n",
       "      <td>1</td>\n",
       "      <td>NaN</td>\n",
       "      <td>female</td>\n",
       "      <td>true</td>\n",
       "      <td>monthly</td>\n",
       "      <td>field_partner</td>\n",
       "    </tr>\n",
       "    <tr>\n",
       "      <th>2</th>\n",
       "      <td>658010</td>\n",
       "      <td>Aasia</td>\n",
       "      <td>English</td>\n",
       "      <td>Aasia is a 45-year-old married lady and she ha...</td>\n",
       "      <td>NaN</td>\n",
       "      <td>400.0</td>\n",
       "      <td>400.0</td>\n",
       "      <td>funded</td>\n",
       "      <td>General Store</td>\n",
       "      <td>Retail</td>\n",
       "      <td>...</td>\n",
       "      <td>2014-01-24 23:06:18.000 +0000</td>\n",
       "      <td>14.0</td>\n",
       "      <td>16</td>\n",
       "      <td>2</td>\n",
       "      <td>1</td>\n",
       "      <td>#Woman Owned Biz, #Supporting Family, user_fav...</td>\n",
       "      <td>female</td>\n",
       "      <td>true</td>\n",
       "      <td>monthly</td>\n",
       "      <td>field_partner</td>\n",
       "    </tr>\n",
       "  </tbody>\n",
       "</table>\n",
       "<p>3 rows × 31 columns</p>\n",
       "</div>"
      ],
      "text/plain": [
       "   loan_id       loan_name original_language  \\\n",
       "0   657307            Aivy           English   \n",
       "1   657259  Idalia Marizza           Spanish   \n",
       "2   658010           Aasia           English   \n",
       "\n",
       "                                         description  \\\n",
       "0  Aivy, 21 years of age, is single and lives in ...   \n",
       "1  Doña Idalia, esta casada, tiene 57 años de eda...   \n",
       "2  Aasia is a 45-year-old married lady and she ha...   \n",
       "\n",
       "                              description_translated  funded_amount  \\\n",
       "0                                                NaN          125.0   \n",
       "1  Idalia, 57, is married and lives with her husb...          400.0   \n",
       "2                                                NaN          400.0   \n",
       "\n",
       "   loan_amount  status  activity_name sector_name  ...  \\\n",
       "0        125.0  funded  General Store      Retail  ...   \n",
       "1        400.0  funded  Used Clothing    Clothing  ...   \n",
       "2        400.0  funded  General Store      Retail  ...   \n",
       "\n",
       "                     raised_time lender_term num_lenders_total  \\\n",
       "0  2014-01-15 04:48:22.000 +0000         7.0                 3   \n",
       "1  2014-02-25 06:42:06.000 +0000         8.0                11   \n",
       "2  2014-01-24 23:06:18.000 +0000        14.0                16   \n",
       "\n",
       "  num_journal_entries num_bulk_entries  \\\n",
       "0                   2                1   \n",
       "1                   2                1   \n",
       "2                   2                1   \n",
       "\n",
       "                                                tags borrower_genders  \\\n",
       "0                                                NaN           female   \n",
       "1                                                NaN           female   \n",
       "2  #Woman Owned Biz, #Supporting Family, user_fav...           female   \n",
       "\n",
       "   borrower_pictured repayment_interval distribution_model  \n",
       "0               true          irregular      field_partner  \n",
       "1               true            monthly      field_partner  \n",
       "2               true            monthly      field_partner  \n",
       "\n",
       "[3 rows x 31 columns]"
      ]
     },
     "execution_count": 5,
     "metadata": {},
     "output_type": "execute_result"
    },
    {
     "name": "stdout",
     "output_type": "stream",
     "text": [
      "time: 1min 22s\n"
     ]
    }
   ],
   "source": [
    "loans=pd.read_csv(\"loans.csv\")\n",
    "loans.head(3)"
   ]
  },
  {
   "cell_type": "code",
   "execution_count": 6,
   "metadata": {
    "collapsed": true,
    "jupyter": {
     "outputs_hidden": true
    }
   },
   "outputs": [
    {
     "data": {
      "text/plain": [
       "Index(['loan_id', 'loan_name', 'original_language', 'description',\n",
       "       'description_translated', 'funded_amount', 'loan_amount', 'status',\n",
       "       'activity_name', 'sector_name', 'loan_use', 'country_code',\n",
       "       'country_name', 'town_name', 'currency_policy',\n",
       "       'currency_exchange_coverage_rate', 'currency', 'partner_id',\n",
       "       'posted_time', 'planned_expiration_time', 'disburse_time',\n",
       "       'raised_time', 'lender_term', 'num_lenders_total',\n",
       "       'num_journal_entries', 'num_bulk_entries', 'tags', 'borrower_genders',\n",
       "       'borrower_pictured', 'repayment_interval', 'distribution_model'],\n",
       "      dtype='object')"
      ]
     },
     "execution_count": 6,
     "metadata": {},
     "output_type": "execute_result"
    },
    {
     "name": "stdout",
     "output_type": "stream",
     "text": [
      "time: 11.4 ms\n"
     ]
    }
   ],
   "source": [
    "loans.columns # Nomi delle colonne del dataset 'loans', che ne presenta in maggior numero"
   ]
  },
  {
   "cell_type": "code",
   "execution_count": 7,
   "metadata": {
    "collapsed": true,
    "jupyter": {
     "outputs_hidden": true
    }
   },
   "outputs": [
    {
     "data": {
      "text/plain": [
       "loan_id                            False\n",
       "loan_name                           True\n",
       "original_language                   True\n",
       "description                         True\n",
       "description_translated              True\n",
       "funded_amount                      False\n",
       "loan_amount                        False\n",
       "status                             False\n",
       "activity_name                      False\n",
       "sector_name                        False\n",
       "loan_use                            True\n",
       "country_code                        True\n",
       "country_name                       False\n",
       "town_name                           True\n",
       "currency_policy                    False\n",
       "currency_exchange_coverage_rate     True\n",
       "currency                           False\n",
       "partner_id                          True\n",
       "posted_time                        False\n",
       "planned_expiration_time             True\n",
       "disburse_time                       True\n",
       "raised_time                         True\n",
       "lender_term                         True\n",
       "num_lenders_total                  False\n",
       "num_journal_entries                False\n",
       "num_bulk_entries                   False\n",
       "tags                                True\n",
       "borrower_genders                    True\n",
       "borrower_pictured                   True\n",
       "repayment_interval                 False\n",
       "distribution_model                 False\n",
       "dtype: bool"
      ]
     },
     "execution_count": 7,
     "metadata": {},
     "output_type": "execute_result"
    },
    {
     "name": "stdout",
     "output_type": "stream",
     "text": [
      "time: 4.06 s\n"
     ]
    }
   ],
   "source": [
    "loans.isna().any()    # Si elencano quali colonne posseggono na"
   ]
  },
  {
   "cell_type": "markdown",
   "metadata": {},
   "source": [
    "***"
   ]
  },
  {
   "cell_type": "markdown",
   "metadata": {},
   "source": [
    "# 1) Normalize the loan_lenders table. In the normalized table, each row must have one loan_id and one lender."
   ]
  },
  {
   "cell_type": "markdown",
   "metadata": {},
   "source": [
    "Per normalizzare la tabella si è pensato di leggere ogni riga della tabella 'lender' come una tupla, grazie alla funzione zip(). Dopodichè ogni cella della colonna 'lenders' si suddivide in tanti elementi quanti sono i prestatori. Poi si aggiunge alla lista 'primo' i codici identificativi dei prestiti ('loan_id') e alla lista 'secondo' i nomi dei prestatori ('lenders'). Infine nel dataframe 'df' si tramutano le due liste nelle sue due colonne, ottenendo per ogni riga un loan_id e un lender"
   ]
  },
  {
   "cell_type": "code",
   "execution_count": 10,
   "metadata": {},
   "outputs": [
    {
     "data": {
      "text/html": [
       "<div>\n",
       "<style scoped>\n",
       "    .dataframe tbody tr th:only-of-type {\n",
       "        vertical-align: middle;\n",
       "    }\n",
       "\n",
       "    .dataframe tbody tr th {\n",
       "        vertical-align: top;\n",
       "    }\n",
       "\n",
       "    .dataframe thead th {\n",
       "        text-align: right;\n",
       "    }\n",
       "</style>\n",
       "<table border=\"1\" class=\"dataframe\">\n",
       "  <thead>\n",
       "    <tr style=\"text-align: right;\">\n",
       "      <th></th>\n",
       "      <th>loan_id</th>\n",
       "      <th>lenders</th>\n",
       "    </tr>\n",
       "  </thead>\n",
       "  <tbody>\n",
       "    <tr>\n",
       "      <th>0</th>\n",
       "      <td>483693</td>\n",
       "      <td>muc888</td>\n",
       "    </tr>\n",
       "    <tr>\n",
       "      <th>1</th>\n",
       "      <td>483693</td>\n",
       "      <td>sam4326</td>\n",
       "    </tr>\n",
       "    <tr>\n",
       "      <th>2</th>\n",
       "      <td>483693</td>\n",
       "      <td>camaran3922</td>\n",
       "    </tr>\n",
       "    <tr>\n",
       "      <th>3</th>\n",
       "      <td>483693</td>\n",
       "      <td>lachheb1865</td>\n",
       "    </tr>\n",
       "    <tr>\n",
       "      <th>4</th>\n",
       "      <td>483693</td>\n",
       "      <td>rebecca3499</td>\n",
       "    </tr>\n",
       "  </tbody>\n",
       "</table>\n",
       "</div>"
      ],
      "text/plain": [
       "   loan_id      lenders\n",
       "0   483693       muc888\n",
       "1   483693      sam4326\n",
       "2   483693  camaran3922\n",
       "3   483693  lachheb1865\n",
       "4   483693  rebecca3499"
      ]
     },
     "execution_count": 10,
     "metadata": {},
     "output_type": "execute_result"
    },
    {
     "name": "stdout",
     "output_type": "stream",
     "text": [
      "time: 1min 6s\n"
     ]
    }
   ],
   "source": [
    "primo=[]\n",
    "secondo=[]\n",
    "for prest,loan in zip(lender['lenders'],lender['loan_id']): \n",
    "#considero le colonne del dataset 'lender' contenenti i nomi dei prestatori e il codice identificativo del prestito\n",
    "    for el in prest.split(', '):                            \n",
    "#ogni cella della colonna 'lenders' viene divisa per ', ' per ottenere un'insieme ben definito di prestatori\n",
    "        primo.append(loan)                                  \n",
    "#si memorizza nelle liste ogni lenders insieme al loan_id associato\n",
    "        secondo.append(el)\n",
    "df = pd.DataFrame({'loan_id': primo, 'lenders': secondo})   \n",
    "#per poi trasferire le liste nel dataframe df, in questo modo normalizzato\n",
    "df.head() "
   ]
  },
  {
   "cell_type": "markdown",
   "metadata": {},
   "source": [
    "***"
   ]
  },
  {
   "cell_type": "markdown",
   "metadata": {},
   "source": [
    "# 2) For each loan, add a column duration corresponding to the number of days between the disburse time and the planned expiration time. If any of those two dates is missing, also the duration must be missing."
   ]
  },
  {
   "cell_type": "markdown",
   "metadata": {},
   "source": [
    "Si genera la colonna 'duration' formata come segue: si covertono i valori delle colonne 'planned_expiration_time' e 'disburse_time' in oggetti date time, in modo da calcolarne la differenza per poi trasformare il valore ottenuto in secondi. Infine si sottraggono le due date e si divide questo risultato per (60 * 60 * 24)=86400, allo scopo di passare dalla durata in secondi a quella in giorni. "
   ]
  },
  {
   "cell_type": "code",
   "execution_count": 12,
   "metadata": {},
   "outputs": [
    {
     "data": {
      "text/html": [
       "<div>\n",
       "<style scoped>\n",
       "    .dataframe tbody tr th:only-of-type {\n",
       "        vertical-align: middle;\n",
       "    }\n",
       "\n",
       "    .dataframe tbody tr th {\n",
       "        vertical-align: top;\n",
       "    }\n",
       "\n",
       "    .dataframe thead th {\n",
       "        text-align: right;\n",
       "    }\n",
       "</style>\n",
       "<table border=\"1\" class=\"dataframe\">\n",
       "  <thead>\n",
       "    <tr style=\"text-align: right;\">\n",
       "      <th></th>\n",
       "      <th>loan_name</th>\n",
       "      <th>country_code</th>\n",
       "      <th>disburse_time</th>\n",
       "      <th>planned_expiration_time</th>\n",
       "      <th>duration</th>\n",
       "    </tr>\n",
       "  </thead>\n",
       "  <tbody>\n",
       "    <tr>\n",
       "      <th>0</th>\n",
       "      <td>Aivy</td>\n",
       "      <td>PH</td>\n",
       "      <td>2013-12-22 08:00:00.000 +0000</td>\n",
       "      <td>2014-02-14 03:30:06.000 +0000</td>\n",
       "      <td>53.81</td>\n",
       "    </tr>\n",
       "    <tr>\n",
       "      <th>1</th>\n",
       "      <td>Idalia Marizza</td>\n",
       "      <td>HN</td>\n",
       "      <td>2013-12-20 08:00:00.000 +0000</td>\n",
       "      <td>2014-03-26 22:25:07.000 +0000</td>\n",
       "      <td>96.60</td>\n",
       "    </tr>\n",
       "    <tr>\n",
       "      <th>2</th>\n",
       "      <td>Aasia</td>\n",
       "      <td>PK</td>\n",
       "      <td>2014-01-09 08:00:00.000 +0000</td>\n",
       "      <td>2014-02-15 21:10:05.000 +0000</td>\n",
       "      <td>37.55</td>\n",
       "    </tr>\n",
       "    <tr>\n",
       "      <th>3</th>\n",
       "      <td>Gulmira</td>\n",
       "      <td>KG</td>\n",
       "      <td>2014-01-17 08:00:00.000 +0000</td>\n",
       "      <td>2014-02-21 03:10:02.000 +0000</td>\n",
       "      <td>34.80</td>\n",
       "    </tr>\n",
       "    <tr>\n",
       "      <th>4</th>\n",
       "      <td>Ricky\\t</td>\n",
       "      <td>PH</td>\n",
       "      <td>2013-12-17 08:00:00.000 +0000</td>\n",
       "      <td>2014-02-13 06:10:02.000 +0000</td>\n",
       "      <td>57.92</td>\n",
       "    </tr>\n",
       "  </tbody>\n",
       "</table>\n",
       "</div>"
      ],
      "text/plain": [
       "        loan_name country_code                  disburse_time  \\\n",
       "0            Aivy           PH  2013-12-22 08:00:00.000 +0000   \n",
       "1  Idalia Marizza           HN  2013-12-20 08:00:00.000 +0000   \n",
       "2           Aasia           PK  2014-01-09 08:00:00.000 +0000   \n",
       "3         Gulmira           KG  2014-01-17 08:00:00.000 +0000   \n",
       "4         Ricky\\t           PH  2013-12-17 08:00:00.000 +0000   \n",
       "\n",
       "         planned_expiration_time  duration  \n",
       "0  2014-02-14 03:30:06.000 +0000     53.81  \n",
       "1  2014-03-26 22:25:07.000 +0000     96.60  \n",
       "2  2014-02-15 21:10:05.000 +0000     37.55  \n",
       "3  2014-02-21 03:10:02.000 +0000     34.80  \n",
       "4  2014-02-13 06:10:02.000 +0000     57.92  "
      ]
     },
     "execution_count": 12,
     "metadata": {},
     "output_type": "execute_result"
    },
    {
     "name": "stdout",
     "output_type": "stream",
     "text": [
      "time: 12.2 s\n"
     ]
    }
   ],
   "source": [
    "loans['duration']=((pd.to_datetime(loans['planned_expiration_time'])-pd.to_datetime(loans['disburse_time'])).dt.total_seconds())/86400\n",
    "pd.DataFrame({'loan_name':loans['loan_name'],'country_code':loans['country_code'],'disburse_time':loans['disburse_time'],'planned_expiration_time':loans['planned_expiration_time'],'duration':round(loans['duration'],2)}).head()"
   ]
  },
  {
   "cell_type": "code",
   "execution_count": 14,
   "metadata": {},
   "outputs": [
    {
     "data": {
      "text/plain": [
       "14935"
      ]
     },
     "execution_count": 14,
     "metadata": {},
     "output_type": "execute_result"
    },
    {
     "name": "stdout",
     "output_type": "stream",
     "text": [
      "time: 102 ms\n"
     ]
    }
   ],
   "source": [
    "len(loans[loans['duration']<0])   \n",
    "# Nel caso ci chiedessimo se fossero presenti 'duration' negative, la risposta sarebbe affermativa."
   ]
  },
  {
   "cell_type": "markdown",
   "metadata": {},
   "source": [
    "Si nota che 14934 righe su 1419607 (1%) hanno differenza negativa, ciò sta a significare che 'disburse_time' e 'planned_expiration_time' sono stati invertiti(errore di compilazione) oppure indica quanti giorni sono trascorsi dopo il giorno di scadenza fissato per prestare l'ammontare di denaro. "
   ]
  },
  {
   "cell_type": "code",
   "execution_count": 15,
   "metadata": {},
   "outputs": [
    {
     "data": {
      "text/plain": [
       "<matplotlib.axes._subplots.AxesSubplot at 0x1e3dddeb828>"
      ]
     },
     "execution_count": 15,
     "metadata": {},
     "output_type": "execute_result"
    },
    {
     "data": {
      "image/png": "[encoded data removed]",
      "text/plain": [
       "<Figure size 432x288 with 1 Axes>"
      ]
     },
     "metadata": {
      "needs_background": "light"
     },
     "output_type": "display_data"
    },
    {
     "name": "stdout",
     "output_type": "stream",
     "text": [
      "time: 3.87 s\n"
     ]
    }
   ],
   "source": [
    "sea.distplot(loans['duration'][loans['duration'].isna()==False],color='gold')"
   ]
  },
  {
   "cell_type": "markdown",
   "metadata": {},
   "source": [
    "L'istogramma ha il compito di evidenziare la distribuzione di 'duration', dalla quale si rileva la massima concentrazione nell'intervallo (40,60). La durata, che intercorre tra il momento del prestito e la sua scadenza, più frequentemente trascorsa è uguale a 60 giorni. \n",
    "Però si presentano anche prestiti finanziati avvenuti fino a quattro anni e mezzo (1670 giorni) prima della scadenza e di altri verificatisi fino a 140 giorni dopo la scadenza."
   ]
  },
  {
   "cell_type": "code",
   "execution_count": 16,
   "metadata": {},
   "outputs": [
    {
     "data": {
      "text/plain": [
       "duration\n",
       "-140.0          1\n",
       "-90.0           3\n",
       "-80.0          18\n",
       "-70.0           6\n",
       "-60.0         573\n",
       "-50.0        1507\n",
       "-40.0        1212\n",
       "-30.0        2036\n",
       "-20.0        3099\n",
       "-10.0        3654\n",
       " 0.0         7102\n",
       " 10.0        6178\n",
       " 20.0        8938\n",
       " 30.0       46902\n",
       " 40.0      247969\n",
       " 50.0      253816\n",
       " 60.0      299647\n",
       " 70.0      119007\n",
       " 80.0       24930\n",
       " 90.0       15001\n",
       " 100.0       2557\n",
       " 110.0        409\n",
       " 120.0         70\n",
       " 130.0          7\n",
       " 1350.0         6\n",
       " 1360.0        18\n",
       " 1370.0        39\n",
       " 1380.0         6\n",
       " 1390.0         7\n",
       " 1400.0         6\n",
       " 1410.0         7\n",
       " 1430.0        17\n",
       " 1440.0         8\n",
       " 1450.0         7\n",
       " 1460.0        50\n",
       " 1470.0        42\n",
       " 1480.0        18\n",
       " 1490.0         5\n",
       " 1500.0         8\n",
       " 1510.0        14\n",
       " 1520.0         1\n",
       " 1530.0         8\n",
       " 1550.0         8\n",
       " 1560.0        17\n",
       " 1570.0         1\n",
       " 1580.0         5\n",
       " 1640.0         1\n",
       " 1650.0        11\n",
       " 1660.0         3\n",
       " 1670.0         7\n",
       "Name: duration, dtype: int64"
      ]
     },
     "execution_count": 16,
     "metadata": {},
     "output_type": "execute_result"
    },
    {
     "name": "stdout",
     "output_type": "stream",
     "text": [
      "time: 138 ms\n"
     ]
    }
   ],
   "source": [
    "w=round(loans['duration'][loans['duration'].isna()==False],-1) \n",
    "# Si arrotondano i valori di durata al primo valore prima della virgola. La particolarità della funzione round() è che arrotonda per eccesso al di sopra della metà della cifra successiva e per difetto al di sotto di essa. \n",
    "w.groupby(w).count()                                           \n",
    "# Si conta la numerosità dei singoli valori arrotondati."
   ]
  },
  {
   "cell_type": "markdown",
   "metadata": {},
   "source": [
    "***"
   ]
  },
  {
   "cell_type": "markdown",
   "metadata": {},
   "source": [
    "# 3) Find the lenders that have funded at least twice."
   ]
  },
  {
   "cell_type": "markdown",
   "metadata": {},
   "source": [
    "A partire dal dataframe 'df' si conta il numero dei finanziamenti per ogni prestatore, poi si pone un vincolo per considerare solo le quantità maggiori di uno.\n",
    "Il numero totale di investitori che hanno prestato almeno due volte una qualsiasi quantità di denaro risultano essere 901811. Il contribuente più partecipativo è stato 'gooddogg1', comparso 177645 volte. Si mostrano in tabella i (primi) 10 lenders che hanno versato il maggior numero di prestiti e di seguito l'istogramma che mette in risalto la grande variazione che sussiste tra di essi. Nel momento in cui gli indici si sono rispristinati con la funzione reset_index() i nomi delle colonne sono stati sostituiti, ragion per cui si ha applicato la funzione rename() per rinominare tali colonne. Fondamentalmente 'lenders' è diventata 'Funded_times' e 'index' si è trasformata in 'Lenders'."
   ]
  },
  {
   "cell_type": "code",
   "execution_count": 20,
   "metadata": {
    "collapsed": true,
    "jupyter": {
     "outputs_hidden": true
    }
   },
   "outputs": [
    {
     "data": {
      "text/html": [
       "<div>\n",
       "<style scoped>\n",
       "    .dataframe tbody tr th:only-of-type {\n",
       "        vertical-align: middle;\n",
       "    }\n",
       "\n",
       "    .dataframe tbody tr th {\n",
       "        vertical-align: top;\n",
       "    }\n",
       "\n",
       "    .dataframe thead th {\n",
       "        text-align: right;\n",
       "    }\n",
       "</style>\n",
       "<table border=\"1\" class=\"dataframe\">\n",
       "  <thead>\n",
       "    <tr style=\"text-align: right;\">\n",
       "      <th></th>\n",
       "      <th>Lenders</th>\n",
       "      <th>Funded_times</th>\n",
       "    </tr>\n",
       "  </thead>\n",
       "  <tbody>\n",
       "    <tr>\n",
       "      <th>0</th>\n",
       "      <td>gooddogg1</td>\n",
       "      <td>177645</td>\n",
       "    </tr>\n",
       "    <tr>\n",
       "      <th>1</th>\n",
       "      <td>trolltech4460</td>\n",
       "      <td>150762</td>\n",
       "    </tr>\n",
       "    <tr>\n",
       "      <th>2</th>\n",
       "      <td>gmct</td>\n",
       "      <td>128159</td>\n",
       "    </tr>\n",
       "    <tr>\n",
       "      <th>3</th>\n",
       "      <td>nms</td>\n",
       "      <td>104314</td>\n",
       "    </tr>\n",
       "    <tr>\n",
       "      <th>4</th>\n",
       "      <td>themissionbeltco</td>\n",
       "      <td>81434</td>\n",
       "    </tr>\n",
       "    <tr>\n",
       "      <th>5</th>\n",
       "      <td>jouko1940</td>\n",
       "      <td>52906</td>\n",
       "    </tr>\n",
       "    <tr>\n",
       "      <th>6</th>\n",
       "      <td>rjhoward1986</td>\n",
       "      <td>50107</td>\n",
       "    </tr>\n",
       "    <tr>\n",
       "      <th>7</th>\n",
       "      <td>barbara5610</td>\n",
       "      <td>48925</td>\n",
       "    </tr>\n",
       "    <tr>\n",
       "      <th>8</th>\n",
       "      <td>shirley1905</td>\n",
       "      <td>40371</td>\n",
       "    </tr>\n",
       "    <tr>\n",
       "      <th>9</th>\n",
       "      <td>joinFITE</td>\n",
       "      <td>39463</td>\n",
       "    </tr>\n",
       "  </tbody>\n",
       "</table>\n",
       "</div>"
      ],
      "text/plain": [
       "            Lenders  Funded_times\n",
       "0         gooddogg1        177645\n",
       "1     trolltech4460        150762\n",
       "2              gmct        128159\n",
       "3               nms        104314\n",
       "4  themissionbeltco         81434\n",
       "5         jouko1940         52906\n",
       "6      rjhoward1986         50107\n",
       "7       barbara5610         48925\n",
       "8       shirley1905         40371\n",
       "9          joinFITE         39463"
      ]
     },
     "execution_count": 20,
     "metadata": {},
     "output_type": "execute_result"
    },
    {
     "name": "stdout",
     "output_type": "stream",
     "text": [
      "time: 41.2 s\n"
     ]
    }
   ],
   "source": [
    "double_loans=pd.DataFrame(df['lenders'].value_counts()[df['lenders'].value_counts()>1]).reset_index().rename(columns={'lenders':'Funded_times','index':'Lenders'})\n",
    "double_loans.head(10)"
   ]
  },
  {
   "cell_type": "code",
   "execution_count": 21,
   "metadata": {},
   "outputs": [
    {
     "data": {
      "text/plain": [
       "Text(0.5, 1.0, 'The 10 lenders who financed more times than any other')"
      ]
     },
     "execution_count": 21,
     "metadata": {},
     "output_type": "execute_result"
    },
    {
     "data": {
      "image/png": "[encoded data removed]",
      "text/plain": [
       "<Figure size 900x360 with 1 Axes>"
      ]
     },
     "metadata": {
      "needs_background": "light"
     },
     "output_type": "display_data"
    },
    {
     "name": "stdout",
     "output_type": "stream",
     "text": [
      "time: 598 ms\n"
     ]
    }
   ],
   "source": [
    "sea.catplot('Lenders','Funded_times', data=double_loans.head(10),kind=\"bar\",aspect=2.5,palette='Blues_d')\n",
    "plt.title('The 10 lenders who financed more times than any other')"
   ]
  },
  {
   "cell_type": "markdown",
   "metadata": {},
   "source": [
    "***"
   ]
  },
  {
   "cell_type": "markdown",
   "metadata": {},
   "source": [
    "# 4) For each country, compute how many loans have involved that country as borrowers."
   ]
  },
  {
   "cell_type": "markdown",
   "metadata": {},
   "source": [
    "Si elencano gli elementi unici della variabile 'country_code' appartenente al dataset 'loans', accorgendosi della presenza di elementi sospetti come 'nan' e di alcuni prefissi internazionali dalla dubbia provenienza. "
   ]
  },
  {
   "cell_type": "code",
   "execution_count": 22,
   "metadata": {},
   "outputs": [
    {
     "data": {
      "text/plain": [
       "array(['PH', 'HN', 'PK', 'KG', 'SV', 'BI', 'ML', 'MN', 'PE', 'GE', 'AM',\n",
       "       'GH', 'TZ', 'KH', 'TG', 'GT', 'LB', 'PY', 'NI', 'KE', 'UG', 'RW',\n",
       "       'MZ', 'AZ', 'IL', 'TJ', 'BO', 'MX', 'ID', 'NG', 'EC', 'MG', 'VN',\n",
       "       'CO', 'JO', 'YE', 'IN', 'CL', 'AL', 'PS', 'NP', 'SL', 'US', 'CD',\n",
       "       'CM', 'WS', 'DO', 'BJ', 'LR', 'SN', 'LA', 'MM', 'IQ', 'ZW', 'TH',\n",
       "       'BF', 'TL', 'HT', 'UA', 'CG', 'XK', 'AF', 'ZA', 'SS', 'CR', 'TR',\n",
       "       'EG', 'ZM', 'BZ', 'MW', 'SR', 'SO', 'SB', 'MD', 'CN', 'BR', 'LS',\n",
       "       'BA', 'CI', 'LK', 'PA', 'PR', 'BG', nan, 'GZ', 'TD', 'VC', 'VI',\n",
       "       'VU', 'GU', 'PG', 'CA', 'BW', 'BT', 'MR', 'UY'], dtype=object)"
      ]
     },
     "execution_count": 22,
     "metadata": {},
     "output_type": "execute_result"
    },
    {
     "name": "stdout",
     "output_type": "stream",
     "text": [
      "time: 239 ms\n"
     ]
    }
   ],
   "source": [
    "loans['country_code'].unique()      "
   ]
  },
  {
   "cell_type": "code",
   "execution_count": 23,
   "metadata": {},
   "outputs": [
    {
     "data": {
      "text/html": [
       "<div>\n",
       "<style scoped>\n",
       "    .dataframe tbody tr th:only-of-type {\n",
       "        vertical-align: middle;\n",
       "    }\n",
       "\n",
       "    .dataframe tbody tr th {\n",
       "        vertical-align: top;\n",
       "    }\n",
       "\n",
       "    .dataframe thead th {\n",
       "        text-align: right;\n",
       "    }\n",
       "</style>\n",
       "<table border=\"1\" class=\"dataframe\">\n",
       "  <thead>\n",
       "    <tr style=\"text-align: right;\">\n",
       "      <th></th>\n",
       "      <th>country_code</th>\n",
       "      <th>country_name</th>\n",
       "    </tr>\n",
       "  </thead>\n",
       "  <tbody>\n",
       "    <tr>\n",
       "      <th>82889</th>\n",
       "      <td>NaN</td>\n",
       "      <td>Namibia</td>\n",
       "    </tr>\n",
       "    <tr>\n",
       "      <th>156970</th>\n",
       "      <td>NaN</td>\n",
       "      <td>Namibia</td>\n",
       "    </tr>\n",
       "    <tr>\n",
       "      <th>598087</th>\n",
       "      <td>NaN</td>\n",
       "      <td>Namibia</td>\n",
       "    </tr>\n",
       "    <tr>\n",
       "      <th>684876</th>\n",
       "      <td>NaN</td>\n",
       "      <td>Namibia</td>\n",
       "    </tr>\n",
       "    <tr>\n",
       "      <th>971827</th>\n",
       "      <td>NaN</td>\n",
       "      <td>Namibia</td>\n",
       "    </tr>\n",
       "    <tr>\n",
       "      <th>1134818</th>\n",
       "      <td>NaN</td>\n",
       "      <td>Namibia</td>\n",
       "    </tr>\n",
       "    <tr>\n",
       "      <th>1214923</th>\n",
       "      <td>NaN</td>\n",
       "      <td>Namibia</td>\n",
       "    </tr>\n",
       "    <tr>\n",
       "      <th>1281022</th>\n",
       "      <td>NaN</td>\n",
       "      <td>Namibia</td>\n",
       "    </tr>\n",
       "    <tr>\n",
       "      <th>1415763</th>\n",
       "      <td>NaN</td>\n",
       "      <td>Namibia</td>\n",
       "    </tr>\n",
       "  </tbody>\n",
       "</table>\n",
       "</div>"
      ],
      "text/plain": [
       "        country_code country_name\n",
       "82889            NaN      Namibia\n",
       "156970           NaN      Namibia\n",
       "598087           NaN      Namibia\n",
       "684876           NaN      Namibia\n",
       "971827           NaN      Namibia\n",
       "1134818          NaN      Namibia\n",
       "1214923          NaN      Namibia\n",
       "1281022          NaN      Namibia\n",
       "1415763          NaN      Namibia"
      ]
     },
     "execution_count": 23,
     "metadata": {},
     "output_type": "execute_result"
    },
    {
     "name": "stdout",
     "output_type": "stream",
     "text": [
      "time: 172 ms\n"
     ]
    }
   ],
   "source": [
    "loans[['country_code','country_name']][loans['country_code'].isnull()]   \n",
    "# I missing values di 'country_code' appartengono alla Namibia"
   ]
  },
  {
   "cell_type": "markdown",
   "metadata": {},
   "source": [
    "Sono presenti 9 'NaN'(missing values). Tutti si riferiscono alla Namibia (NM), perciò devono essere sostituiti con il country_code 'NM'."
   ]
  },
  {
   "cell_type": "code",
   "execution_count": 24,
   "metadata": {},
   "outputs": [
    {
     "name": "stdout",
     "output_type": "stream",
     "text": [
      "time: 329 ms\n"
     ]
    }
   ],
   "source": [
    "lista=[]\n",
    "for i,p in zip(loans['country_code'].unique(),loans['country_name'].unique()):  \n",
    "# Si considerano gli Stati e i loro prefissi internazionali, presenti in 'loans'\n",
    "    if i not in country['country_code'].unique():                   \n",
    "# Si valuta quali dei prefissi precedenti non sono contenuti in 'country_code' del dataset country\n",
    "        lista.append([i] + [p])"
   ]
  },
  {
   "cell_type": "markdown",
   "metadata": {},
   "source": [
    "Confrontando il dataset 'country' (contenente tutti i possibili stati del mondo) con 'loans' (contenente gli stati da cui sono partiti i prestiti) si evidenziano \n",
    "5 country che non sono realmente riconosciuti come paesi e che quindi posso eliminare da 'country_code'. \n",
    "Insorgono 34 valori appartenenti alle seguenti regioni:\n",
    "\n",
    "[['GZ', 'Gaza'], ['VC', 'Saint Vincent and the Grenadines'], ['VI', 'Virgin Islands'], ['VU', 'Vanuatu'], ['GU', 'Guam']] \n",
    "\n"
   ]
  },
  {
   "cell_type": "code",
   "execution_count": 26,
   "metadata": {},
   "outputs": [
    {
     "name": "stdout",
     "output_type": "stream",
     "text": [
      "time: 10.4 s\n"
     ]
    }
   ],
   "source": [
    "loans['country_code']=loans['country_code'].fillna('NM')        \n",
    "# Si sostituiscono i missing values associati alla Namibia, della colonna 'country_code', con 'NM'. \n",
    "for i in ['GZ','VC','VI','VU','GU']:\n",
    "    loans=loans.drop(loans.loc[loans['country_code']==i].index) \n",
    "# Si eliminano tutte qulle righe che possiedono i country_code trovati nella previa cella."
   ]
  },
  {
   "cell_type": "markdown",
   "metadata": {},
   "source": [
    "Vengono eliminati i 34 valori precedentemente identificati, di cui:\n",
    "- 16 'Saint Vincent and the Grenadines' (VC),\n",
    "- 8 'Gaza' (GZ), \n",
    "- 4 'Guam' (GU),\n",
    "- 4 'Vanuatu' (VU),\n",
    "- 2 'Virgin Island' (VI).\n",
    "\n",
    "Le righe del dataset passano da 1419607 a 1419573 "
   ]
  },
  {
   "cell_type": "markdown",
   "metadata": {},
   "source": [
    "Il risultato finale atteso consiste in una tabella ove, per ognuno dei 91 Stati, si abbia il numero di volte che hanno preso un prestito. Ulteriormente si modifica l'ordine delle righe per presentare i primi 10 paesi della classifica. Il metodo utilizzato per raggiungere tale risultato è il raggruppamento, per mezzo della funzione groupby(), della variabile 'country_code' che conta quanti finanziamenti sono stati ricevuti ('borrow_times'). \n",
    "Dopodichè si traccia il grafico a barre che raffigura i dati della tabella 'punto4', disposti in ordine decrescente per 'borrow_times' "
   ]
  },
  {
   "cell_type": "code",
   "execution_count": 27,
   "metadata": {
    "collapsed": true,
    "jupyter": {
     "outputs_hidden": true
    }
   },
   "outputs": [
    {
     "data": {
      "text/html": [
       "<div>\n",
       "<style scoped>\n",
       "    .dataframe tbody tr th:only-of-type {\n",
       "        vertical-align: middle;\n",
       "    }\n",
       "\n",
       "    .dataframe tbody tr th {\n",
       "        vertical-align: top;\n",
       "    }\n",
       "\n",
       "    .dataframe thead th {\n",
       "        text-align: right;\n",
       "    }\n",
       "</style>\n",
       "<table border=\"1\" class=\"dataframe\">\n",
       "  <thead>\n",
       "    <tr style=\"text-align: right;\">\n",
       "      <th></th>\n",
       "      <th>country_code</th>\n",
       "      <th>borrow_times</th>\n",
       "    </tr>\n",
       "  </thead>\n",
       "  <tbody>\n",
       "    <tr>\n",
       "      <th>60</th>\n",
       "      <td>PH</td>\n",
       "      <td>285336</td>\n",
       "    </tr>\n",
       "    <tr>\n",
       "      <th>36</th>\n",
       "      <td>KE</td>\n",
       "      <td>143699</td>\n",
       "    </tr>\n",
       "    <tr>\n",
       "      <th>58</th>\n",
       "      <td>PE</td>\n",
       "      <td>86000</td>\n",
       "    </tr>\n",
       "    <tr>\n",
       "      <th>38</th>\n",
       "      <td>KH</td>\n",
       "      <td>79701</td>\n",
       "    </tr>\n",
       "    <tr>\n",
       "      <th>72</th>\n",
       "      <td>SV</td>\n",
       "      <td>64037</td>\n",
       "    </tr>\n",
       "    <tr>\n",
       "      <th>81</th>\n",
       "      <td>UG</td>\n",
       "      <td>45882</td>\n",
       "    </tr>\n",
       "    <tr>\n",
       "      <th>61</th>\n",
       "      <td>PK</td>\n",
       "      <td>45120</td>\n",
       "    </tr>\n",
       "    <tr>\n",
       "      <th>76</th>\n",
       "      <td>TJ</td>\n",
       "      <td>43942</td>\n",
       "    </tr>\n",
       "    <tr>\n",
       "      <th>54</th>\n",
       "      <td>NI</td>\n",
       "      <td>42519</td>\n",
       "    </tr>\n",
       "    <tr>\n",
       "      <th>21</th>\n",
       "      <td>CO</td>\n",
       "      <td>33675</td>\n",
       "    </tr>\n",
       "  </tbody>\n",
       "</table>\n",
       "</div>"
      ],
      "text/plain": [
       "   country_code  borrow_times\n",
       "60           PH        285336\n",
       "36           KE        143699\n",
       "58           PE         86000\n",
       "38           KH         79701\n",
       "72           SV         64037\n",
       "81           UG         45882\n",
       "61           PK         45120\n",
       "76           TJ         43942\n",
       "54           NI         42519\n",
       "21           CO         33675"
      ]
     },
     "execution_count": 27,
     "metadata": {},
     "output_type": "execute_result"
    },
    {
     "name": "stdout",
     "output_type": "stream",
     "text": [
      "time: 699 ms\n"
     ]
    }
   ],
   "source": [
    "punto4=pd.DataFrame(loans['loan_id'].groupby(loans['country_code']).count()).reset_index().rename(columns={'loan_id':'borrow_times'})\n",
    "punto4.sort_values('borrow_times',ascending=0).head(10)             \n",
    "#vengono identificati i paesi mutuatari per numerosità di prestiti incassati "
   ]
  },
  {
   "cell_type": "markdown",
   "metadata": {},
   "source": [
    "La tabella individua le Filippine ('PH') come lo Stato che ha ricevuto più prestiti, in particolare 285336 volte. Invece il grafico svela l'enorme differenza che risiede tra le Filippine e le altre nazioni che seguono in graduatoria."
   ]
  },
  {
   "cell_type": "code",
   "execution_count": 28,
   "metadata": {},
   "outputs": [
    {
     "data": {
      "text/plain": [
       "Text(0.5, 1.0, 'The 10 countries who received more loans than any other')"
      ]
     },
     "execution_count": 28,
     "metadata": {},
     "output_type": "execute_result"
    },
    {
     "data": {
      "image/png": "[encoded data removed]",
      "text/plain": [
       "<Figure size 900x360 with 1 Axes>"
      ]
     },
     "metadata": {
      "needs_background": "light"
     },
     "output_type": "display_data"
    },
    {
     "name": "stdout",
     "output_type": "stream",
     "text": [
      "time: 768 ms\n"
     ]
    }
   ],
   "source": [
    "sea.catplot('country_code','borrow_times', data=punto4.sort_values('borrow_times',ascending=0).head(10),kind=\"bar\",aspect=2.5,palette='winter')\n",
    "plt.title('The 10 countries who received more loans than any other')"
   ]
  },
  {
   "cell_type": "markdown",
   "metadata": {},
   "source": [
    "***"
   ]
  },
  {
   "cell_type": "markdown",
   "metadata": {},
   "source": [
    "# 5) For each country, compute the overall amount of money borrowed."
   ]
  },
  {
   "cell_type": "markdown",
   "metadata": {},
   "source": [
    "Rispetto al caso precedente, la principale differenza a livello risolutivo risiede nel fatto che la funzione groupby() abbia sommato l'ammontare di denaro, invece di contarlo. Vengono mostrati i primi 10 paesi che hanno preso in prestito la maggior quantità di denaro. "
   ]
  },
  {
   "cell_type": "code",
   "execution_count": 29,
   "metadata": {
    "collapsed": true,
    "jupyter": {
     "outputs_hidden": true
    }
   },
   "outputs": [
    {
     "data": {
      "text/html": [
       "<div>\n",
       "<style scoped>\n",
       "    .dataframe tbody tr th:only-of-type {\n",
       "        vertical-align: middle;\n",
       "    }\n",
       "\n",
       "    .dataframe tbody tr th {\n",
       "        vertical-align: top;\n",
       "    }\n",
       "\n",
       "    .dataframe thead th {\n",
       "        text-align: right;\n",
       "    }\n",
       "</style>\n",
       "<table border=\"1\" class=\"dataframe\">\n",
       "  <thead>\n",
       "    <tr style=\"text-align: right;\">\n",
       "      <th></th>\n",
       "      <th>country_code</th>\n",
       "      <th>Overall_amount_borrowed</th>\n",
       "    </tr>\n",
       "  </thead>\n",
       "  <tbody>\n",
       "    <tr>\n",
       "      <th>0</th>\n",
       "      <td>PH</td>\n",
       "      <td>97045925.0</td>\n",
       "    </tr>\n",
       "    <tr>\n",
       "      <th>1</th>\n",
       "      <td>PE</td>\n",
       "      <td>78702800.0</td>\n",
       "    </tr>\n",
       "    <tr>\n",
       "      <th>2</th>\n",
       "      <td>KE</td>\n",
       "      <td>63650255.0</td>\n",
       "    </tr>\n",
       "    <tr>\n",
       "      <th>3</th>\n",
       "      <td>PY</td>\n",
       "      <td>53715200.0</td>\n",
       "    </tr>\n",
       "    <tr>\n",
       "      <th>4</th>\n",
       "      <td>KH</td>\n",
       "      <td>50829425.0</td>\n",
       "    </tr>\n",
       "    <tr>\n",
       "      <th>5</th>\n",
       "      <td>BO</td>\n",
       "      <td>41814950.0</td>\n",
       "    </tr>\n",
       "    <tr>\n",
       "      <th>6</th>\n",
       "      <td>SV</td>\n",
       "      <td>37881675.0</td>\n",
       "    </tr>\n",
       "    <tr>\n",
       "      <th>7</th>\n",
       "      <td>TJ</td>\n",
       "      <td>37049825.0</td>\n",
       "    </tr>\n",
       "    <tr>\n",
       "      <th>8</th>\n",
       "      <td>UG</td>\n",
       "      <td>36914450.0</td>\n",
       "    </tr>\n",
       "    <tr>\n",
       "      <th>9</th>\n",
       "      <td>US</td>\n",
       "      <td>36365340.0</td>\n",
       "    </tr>\n",
       "  </tbody>\n",
       "</table>\n",
       "</div>"
      ],
      "text/plain": [
       "  country_code  Overall_amount_borrowed\n",
       "0           PH               97045925.0\n",
       "1           PE               78702800.0\n",
       "2           KE               63650255.0\n",
       "3           PY               53715200.0\n",
       "4           KH               50829425.0\n",
       "5           BO               41814950.0\n",
       "6           SV               37881675.0\n",
       "7           TJ               37049825.0\n",
       "8           UG               36914450.0\n",
       "9           US               36365340.0"
      ]
     },
     "execution_count": 29,
     "metadata": {},
     "output_type": "execute_result"
    },
    {
     "name": "stdout",
     "output_type": "stream",
     "text": [
      "time: 179 ms\n"
     ]
    }
   ],
   "source": [
    "punto5=pd.DataFrame(loans['funded_amount'].groupby(loans['country_code']).sum().sort_values(ascending=False)).reset_index().rename(columns={'funded_amount':'Overall_amount_borrowed'}) \n",
    "punto5.head(10)"
   ]
  },
  {
   "cell_type": "markdown",
   "metadata": {},
   "source": [
    "Il divario presente nel bar chart, tra i principali paesi, è meno marcato rispetto ai grafici precedenti sebbene sia lampante che le Filippine, al vertice per mole di prestiti ricevuti, abbiano riscosso una quantità di denaro doppia se paragonata a qulla della Bolivia (BO) che si colloca in quinta posizione."
   ]
  },
  {
   "cell_type": "code",
   "execution_count": 30,
   "metadata": {},
   "outputs": [
    {
     "data": {
      "text/plain": [
       "Text(0.5, 1.0, 'The 10 countries who borrowed more amount of money than any other')"
      ]
     },
     "execution_count": 30,
     "metadata": {},
     "output_type": "execute_result"
    },
    {
     "data": {
      "image/png": "[encoded data removed]",
      "text/plain": [
       "<Figure size 900x360 with 1 Axes>"
      ]
     },
     "metadata": {
      "needs_background": "light"
     },
     "output_type": "display_data"
    },
    {
     "name": "stdout",
     "output_type": "stream",
     "text": [
      "time: 552 ms\n"
     ]
    }
   ],
   "source": [
    "sea.catplot('country_code','Overall_amount_borrowed', data=punto5.head(10),kind=\"bar\",aspect=2.5,palette='autumn')\n",
    "plt.title('The 10 countries who borrowed more amount of money than any other')"
   ]
  },
  {
   "cell_type": "markdown",
   "metadata": {},
   "source": [
    "Osservazione: comparando i due precedenti barchart, si constata che le nazioni Perù ('PE') e Kenya ('KE') si invertono i ruoli. \n",
    "Questo sta a significare che il Perù riceve meno prestiti ma dal volume più ingente a confronto del Kenya che ne riscuote di più ma dall'entità più contenuta.\n",
    "Grazie alla media si è in grado di dimostrare quanto appena detto:  "
   ]
  },
  {
   "cell_type": "code",
   "execution_count": 31,
   "metadata": {},
   "outputs": [
    {
     "name": "stdout",
     "output_type": "stream",
     "text": [
      "Mean of Perù is: [915.1] Mean of Kenya is: [442.9]\n",
      "time: 523 ms\n"
     ]
    }
   ],
   "source": [
    "print(\"Mean of Perù is:\" , [round(np.mean(loans['funded_amount'][loans['country_code']=='PE']),1)], \"Mean of Kenya is:\" ,[round(np.mean(loans['funded_amount'][loans['country_code']=='KE']),1)])"
   ]
  },
  {
   "cell_type": "markdown",
   "metadata": {},
   "source": [
    "***"
   ]
  },
  {
   "cell_type": "markdown",
   "metadata": {},
   "source": [
    "# 6) Like the previous point, but expressed as a percentage of the overall amount lent."
   ]
  },
  {
   "cell_type": "markdown",
   "metadata": {},
   "source": [
    "Si calcola la percentuale dei soldi presi in prestito ('funded_amount') fratto i soldi prestati ('loan_amount'), raggruppati per Stato ('country_code').\n",
    "Quando la percentuale si avvicina a 100, significa che il paese ha preso in prestito tanto quanto ha donato, mentre più ci si allontana dal 100% più i paesi prestano rispetto a quanto prendono in prestito. Non vi è alcun caso in cui la percentuale oltrepassa la soglia del 100%, pertanto nessuna nazione ha preso in prestito più di quanto abbia donato."
   ]
  },
  {
   "cell_type": "code",
   "execution_count": 32,
   "metadata": {},
   "outputs": [
    {
     "data": {
      "text/html": [
       "<div>\n",
       "<style scoped>\n",
       "    .dataframe tbody tr th:only-of-type {\n",
       "        vertical-align: middle;\n",
       "    }\n",
       "\n",
       "    .dataframe tbody tr th {\n",
       "        vertical-align: top;\n",
       "    }\n",
       "\n",
       "    .dataframe thead th {\n",
       "        text-align: right;\n",
       "    }\n",
       "</style>\n",
       "<table border=\"1\" class=\"dataframe\">\n",
       "  <thead>\n",
       "    <tr style=\"text-align: right;\">\n",
       "      <th></th>\n",
       "      <th>country_code</th>\n",
       "      <th>funded_amount</th>\n",
       "      <th>loan_amount</th>\n",
       "      <th>%_funded-lent</th>\n",
       "    </tr>\n",
       "  </thead>\n",
       "  <tbody>\n",
       "    <tr>\n",
       "      <th>11</th>\n",
       "      <td>BT</td>\n",
       "      <td>15625.0</td>\n",
       "      <td>20000.0</td>\n",
       "      <td>78.12</td>\n",
       "    </tr>\n",
       "    <tr>\n",
       "      <th>82</th>\n",
       "      <td>US</td>\n",
       "      <td>36365340.0</td>\n",
       "      <td>46352000.0</td>\n",
       "      <td>78.45</td>\n",
       "    </tr>\n",
       "    <tr>\n",
       "      <th>62</th>\n",
       "      <td>PR</td>\n",
       "      <td>362600.0</td>\n",
       "      <td>441900.0</td>\n",
       "      <td>82.05</td>\n",
       "    </tr>\n",
       "    <tr>\n",
       "      <th>2</th>\n",
       "      <td>AM</td>\n",
       "      <td>20284675.0</td>\n",
       "      <td>22950475.0</td>\n",
       "      <td>88.38</td>\n",
       "    </tr>\n",
       "    <tr>\n",
       "      <th>21</th>\n",
       "      <td>CO</td>\n",
       "      <td>21052825.0</td>\n",
       "      <td>23613975.0</td>\n",
       "      <td>89.15</td>\n",
       "    </tr>\n",
       "    <tr>\n",
       "      <th>72</th>\n",
       "      <td>SV</td>\n",
       "      <td>37881675.0</td>\n",
       "      <td>41691550.0</td>\n",
       "      <td>90.86</td>\n",
       "    </tr>\n",
       "    <tr>\n",
       "      <th>35</th>\n",
       "      <td>JO</td>\n",
       "      <td>10069400.0</td>\n",
       "      <td>11007450.0</td>\n",
       "      <td>91.48</td>\n",
       "    </tr>\n",
       "    <tr>\n",
       "      <th>1</th>\n",
       "      <td>AL</td>\n",
       "      <td>3992475.0</td>\n",
       "      <td>4307350.0</td>\n",
       "      <td>92.69</td>\n",
       "    </tr>\n",
       "    <tr>\n",
       "      <th>86</th>\n",
       "      <td>XK</td>\n",
       "      <td>2862325.0</td>\n",
       "      <td>3083025.0</td>\n",
       "      <td>92.84</td>\n",
       "    </tr>\n",
       "    <tr>\n",
       "      <th>47</th>\n",
       "      <td>MM</td>\n",
       "      <td>3921325.0</td>\n",
       "      <td>4201550.0</td>\n",
       "      <td>93.33</td>\n",
       "    </tr>\n",
       "  </tbody>\n",
       "</table>\n",
       "</div>"
      ],
      "text/plain": [
       "   country_code  funded_amount  loan_amount  %_funded-lent\n",
       "11           BT        15625.0      20000.0          78.12\n",
       "82           US     36365340.0   46352000.0          78.45\n",
       "62           PR       362600.0     441900.0          82.05\n",
       "2            AM     20284675.0   22950475.0          88.38\n",
       "21           CO     21052825.0   23613975.0          89.15\n",
       "72           SV     37881675.0   41691550.0          90.86\n",
       "35           JO     10069400.0   11007450.0          91.48\n",
       "1            AL      3992475.0    4307350.0          92.69\n",
       "86           XK      2862325.0    3083025.0          92.84\n",
       "47           MM      3921325.0    4201550.0          93.33"
      ]
     },
     "execution_count": 32,
     "metadata": {},
     "output_type": "execute_result"
    },
    {
     "name": "stdout",
     "output_type": "stream",
     "text": [
      "time: 637 ms\n"
     ]
    }
   ],
   "source": [
    "punto6=pd.DataFrame({'funded_amount':loans['funded_amount'].groupby(loans['country_code']).sum(),'loan_amount':loans['loan_amount'].groupby(loans['country_code']).sum(),'%_funded-lent':round(((loans['funded_amount'].groupby(loans['country_code']).sum())/(loans['loan_amount'].groupby(loans['country_code']).sum())*100),2)}).reset_index() \n",
    "punto6.sort_values('%_funded-lent').head(10) "
   ]
  },
  {
   "cell_type": "markdown",
   "metadata": {},
   "source": [
    "Si è scelto di ordinare dalla percentuale minore alla maggiore, affinchè si individuassero i paesi più 'caritatevoli'.\n",
    "All'inizio della classifica si trovano: Bhutan (BT), Stati Uniti (US) e Porto Rico (PR) con valori rispettivamente del 78.12%, 87.07% e 88.16%. \n",
    "I rimanenti paesi tendono ad appartenere all'intervallo 90-100 %. Inizialmente, per mostrare tutti gli Stati nel grafico, le etichette (tag) si sovrapponevano. Grazie alla rotazione di queste ultime, sono state rese leggibili."
   ]
  },
  {
   "cell_type": "code",
   "execution_count": 33,
   "metadata": {},
   "outputs": [
    {
     "data": {
      "text/plain": [
       "Text(0.5, 1.0, '91 countries with overall amount of money borrowed expressed as % of the overall amount lent')"
      ]
     },
     "execution_count": 33,
     "metadata": {},
     "output_type": "execute_result"
    },
    {
     "data": {
      "image/png": "[encoded data removed]",
      "text/plain": [
       "<Figure size 1440x360 with 1 Axes>"
      ]
     },
     "metadata": {
      "needs_background": "light"
     },
     "output_type": "display_data"
    },
    {
     "name": "stdout",
     "output_type": "stream",
     "text": [
      "time: 4.09 s\n"
     ]
    }
   ],
   "source": [
    "x=sea.catplot('country_code','%_funded-lent', data=punto6.sort_values('%_funded-lent'),kind=\"bar\",aspect=4,palette='inferno')\n",
    "x.set_xticklabels(rotation=45)  #si ruotano le labels dell'ascissa di 45 gradi\n",
    "plt.title('91 countries with overall amount of money borrowed expressed as % of the overall amount lent')"
   ]
  },
  {
   "cell_type": "markdown",
   "metadata": {},
   "source": [
    "***"
   ]
  },
  {
   "cell_type": "markdown",
   "metadata": {},
   "source": [
    "# 7) Like the three previous points, but split for each year (with respect to disburse time).\n"
   ]
  },
  {
   "cell_type": "markdown",
   "metadata": {},
   "source": [
    "Prima di tutto si escludono i missing della colonna 'disburse_time' come forma di pulizia. Questa strategia è efficace perchè il dataset in possesso è molto grande e le righe eliminate sono appena 2809, equivalenti al 2‰. Le righe totali passano da 1419573 a 1416764."
   ]
  },
  {
   "cell_type": "code",
   "execution_count": 34,
   "metadata": {},
   "outputs": [
    {
     "name": "stdout",
     "output_type": "stream",
     "text": [
      "time: 1.39 s\n"
     ]
    }
   ],
   "source": [
    "loans=loans[loans['disburse_time'].isnull()==False] "
   ]
  },
  {
   "cell_type": "markdown",
   "metadata": {},
   "source": [
    "**7) in riferimento al 4**\n",
    "\n",
    "Si trasforma la colonna 'disburse_time' in datetime, poi se ne crea una nuova chiamata 'yearD' che coincide con gli anni della variabile 'disburse_time'"
   ]
  },
  {
   "cell_type": "code",
   "execution_count": 36,
   "metadata": {},
   "outputs": [
    {
     "name": "stdout",
     "output_type": "stream",
     "text": [
      "time: 280 ms\n"
     ]
    }
   ],
   "source": [
    "loans['disburse_time']= pd.to_datetime(loans['disburse_time'], errors='coerce')\n",
    "loans['yearD']=pd.DataFrame(loans['disburse_time'].dt.year)              #aggiungo una nuova colonna che rappresenta gli anni di 'disburse_time'"
   ]
  },
  {
   "cell_type": "markdown",
   "metadata": {},
   "source": [
    "Come nella query 4) si esegue il medesimo codice, con l'aggiunta di 'yearD' che partiziona i dati per ogni anno."
   ]
  },
  {
   "cell_type": "code",
   "execution_count": 37,
   "metadata": {},
   "outputs": [
    {
     "data": {
      "text/html": [
       "<div>\n",
       "<style scoped>\n",
       "    .dataframe tbody tr th:only-of-type {\n",
       "        vertical-align: middle;\n",
       "    }\n",
       "\n",
       "    .dataframe tbody tr th {\n",
       "        vertical-align: top;\n",
       "    }\n",
       "\n",
       "    .dataframe thead th {\n",
       "        text-align: right;\n",
       "    }\n",
       "</style>\n",
       "<table border=\"1\" class=\"dataframe\">\n",
       "  <thead>\n",
       "    <tr style=\"text-align: right;\">\n",
       "      <th></th>\n",
       "      <th></th>\n",
       "      <th>Borrow_times_Xanno</th>\n",
       "    </tr>\n",
       "    <tr>\n",
       "      <th>country_code</th>\n",
       "      <th>yearD</th>\n",
       "      <th></th>\n",
       "    </tr>\n",
       "  </thead>\n",
       "  <tbody>\n",
       "    <tr>\n",
       "      <th rowspan=\"7\" valign=\"top\">AF</th>\n",
       "      <th>2007</th>\n",
       "      <td>408</td>\n",
       "    </tr>\n",
       "    <tr>\n",
       "      <th>2008</th>\n",
       "      <td>370</td>\n",
       "    </tr>\n",
       "    <tr>\n",
       "      <th>2009</th>\n",
       "      <td>678</td>\n",
       "    </tr>\n",
       "    <tr>\n",
       "      <th>2010</th>\n",
       "      <td>632</td>\n",
       "    </tr>\n",
       "    <tr>\n",
       "      <th>2011</th>\n",
       "      <td>247</td>\n",
       "    </tr>\n",
       "    <tr>\n",
       "      <th>2015</th>\n",
       "      <td>1</td>\n",
       "    </tr>\n",
       "    <tr>\n",
       "      <th>2016</th>\n",
       "      <td>1</td>\n",
       "    </tr>\n",
       "    <tr>\n",
       "      <th rowspan=\"6\" valign=\"top\">AL</th>\n",
       "      <th>2012</th>\n",
       "      <td>332</td>\n",
       "    </tr>\n",
       "    <tr>\n",
       "      <th>2013</th>\n",
       "      <td>507</td>\n",
       "    </tr>\n",
       "    <tr>\n",
       "      <th>2014</th>\n",
       "      <td>603</td>\n",
       "    </tr>\n",
       "    <tr>\n",
       "      <th>2015</th>\n",
       "      <td>638</td>\n",
       "    </tr>\n",
       "    <tr>\n",
       "      <th>2016</th>\n",
       "      <td>475</td>\n",
       "    </tr>\n",
       "    <tr>\n",
       "      <th>2017</th>\n",
       "      <td>520</td>\n",
       "    </tr>\n",
       "  </tbody>\n",
       "</table>\n",
       "</div>"
      ],
      "text/plain": [
       "                    Borrow_times_Xanno\n",
       "country_code yearD                    \n",
       "AF           2007                  408\n",
       "             2008                  370\n",
       "             2009                  678\n",
       "             2010                  632\n",
       "             2011                  247\n",
       "             2015                    1\n",
       "             2016                    1\n",
       "AL           2012                  332\n",
       "             2013                  507\n",
       "             2014                  603\n",
       "             2015                  638\n",
       "             2016                  475\n",
       "             2017                  520"
      ]
     },
     "execution_count": 37,
     "metadata": {},
     "output_type": "execute_result"
    },
    {
     "name": "stdout",
     "output_type": "stream",
     "text": [
      "time: 579 ms\n"
     ]
    }
   ],
   "source": [
    "Xanno1=pd.DataFrame(loans.groupby(['country_code','yearD'])['yearD'].count()).rename(columns={'yearD':'Borrow_times_Xanno'})\n",
    "Xanno1.head(13)"
   ]
  },
  {
   "cell_type": "markdown",
   "metadata": {},
   "source": [
    "Si crea la funzione TimeSeries, allo scopo di generare serie storiche che mostrino l'andamento temporale della quantità di prestiti ricevuti. I soggetti in questione sono i tre Stati che si sono posizionati in cima alla classifica nel punto 4). L'insieme 'PH','KE' e 'PE' è formato dai paesi con la maggior numerosità di prestiti ricevuti. In primis la TimeSeries legge la tabella e ne sistema gli indici, poi accoda gli Stati messi in input secondo l'ordine della classifica. Dopodichè crea un diagramma ove rappresenta le curve che si riferiscono a tali Stati. Questa funzione è nata per favorire velocità e il riutlizzo."
   ]
  },
  {
   "cell_type": "code",
   "execution_count": 38,
   "metadata": {},
   "outputs": [
    {
     "name": "stdout",
     "output_type": "stream",
     "text": [
      "time: 4.46 ms\n"
     ]
    }
   ],
   "source": [
    "def TimeSeries(Xanno,variable,a,b,c):\n",
    "    f=Xanno.reset_index()\n",
    "    ff=f[f['country_code']==a].append(f[f['country_code']==b]).append(f[f['country_code']==c]) \n",
    "    #si crea un dataframe composto dai paesi a,b,c in cima alla classifica\n",
    "    plt.grid(linestyle=':')              #si crea una griglia tratteggiata\n",
    "    plt.xlim(2004,2017)                  #si imposta l'estensione dell'asse delle ascisse\n",
    "    plt.xticks(list(range(2005,2018)))   \n",
    "    #si considera il range temporale [2005,2017], escludendo l'ultimo anno in quanto inconcluso.\n",
    "    sea.lineplot(list(ff['yearD']),list(ff[variable]),hue=list(ff['country_code']), data=ff,marker='o') #serie storica "
   ]
  },
  {
   "cell_type": "code",
   "execution_count": 39,
   "metadata": {},
   "outputs": [
    {
     "data": {
      "text/plain": [
       "Text(0.5, 1.0, 'Time Series of 3 countries (PH, KE, PE) who received more loans than any other')"
      ]
     },
     "execution_count": 39,
     "metadata": {},
     "output_type": "execute_result"
    },
    {
     "data": {
      "image/png": "[encoded data removed]",
      "text/plain": [
       "<Figure size 432x288 with 1 Axes>"
      ]
     },
     "metadata": {
      "needs_background": "light"
     },
     "output_type": "display_data"
    },
    {
     "name": "stdout",
     "output_type": "stream",
     "text": [
      "time: 731 ms\n"
     ]
    }
   ],
   "source": [
    "TimeSeries(Xanno1,'Borrow_times_Xanno','PH','KE','PE')\n",
    "plt.title('Time Series of 3 countries (PH, KE, PE) who received more loans than any other')"
   ]
  },
  {
   "cell_type": "markdown",
   "metadata": {},
   "source": [
    "**7) in riferimento al 5**\n",
    "\n",
    "In questo esercizio si vuole spiegare il trend annuale in funzione della quantità di soldi presi in prestito, distinto per i primi tre paesi. \n",
    "'PH','PE' e 'KE' sono gli oggetti di indagine nel grafico. Nonostante gli Stati di riferimento siano gli stessi, essi vengono immessi nella funzione TimeSeries con lo stesso ordine dell classifica. A scanso di equivoci il grafico evidenzia nettamente il distacco tra le curve."
   ]
  },
  {
   "cell_type": "code",
   "execution_count": 40,
   "metadata": {
    "collapsed": true,
    "jupyter": {
     "outputs_hidden": true
    }
   },
   "outputs": [
    {
     "data": {
      "text/html": [
       "<div>\n",
       "<style scoped>\n",
       "    .dataframe tbody tr th:only-of-type {\n",
       "        vertical-align: middle;\n",
       "    }\n",
       "\n",
       "    .dataframe tbody tr th {\n",
       "        vertical-align: top;\n",
       "    }\n",
       "\n",
       "    .dataframe thead th {\n",
       "        text-align: right;\n",
       "    }\n",
       "</style>\n",
       "<table border=\"1\" class=\"dataframe\">\n",
       "  <thead>\n",
       "    <tr style=\"text-align: right;\">\n",
       "      <th></th>\n",
       "      <th></th>\n",
       "      <th>funded_amount</th>\n",
       "    </tr>\n",
       "    <tr>\n",
       "      <th>country_code</th>\n",
       "      <th>yearD</th>\n",
       "      <th></th>\n",
       "    </tr>\n",
       "  </thead>\n",
       "  <tbody>\n",
       "    <tr>\n",
       "      <th rowspan=\"7\" valign=\"top\">AF</th>\n",
       "      <th>2007</th>\n",
       "      <td>194975.0</td>\n",
       "    </tr>\n",
       "    <tr>\n",
       "      <th>2008</th>\n",
       "      <td>365375.0</td>\n",
       "    </tr>\n",
       "    <tr>\n",
       "      <th>2009</th>\n",
       "      <td>581825.0</td>\n",
       "    </tr>\n",
       "    <tr>\n",
       "      <th>2010</th>\n",
       "      <td>563350.0</td>\n",
       "    </tr>\n",
       "    <tr>\n",
       "      <th>2011</th>\n",
       "      <td>245125.0</td>\n",
       "    </tr>\n",
       "    <tr>\n",
       "      <th>2015</th>\n",
       "      <td>6000.0</td>\n",
       "    </tr>\n",
       "    <tr>\n",
       "      <th>2016</th>\n",
       "      <td>8000.0</td>\n",
       "    </tr>\n",
       "    <tr>\n",
       "      <th rowspan=\"6\" valign=\"top\">AL</th>\n",
       "      <th>2012</th>\n",
       "      <td>411775.0</td>\n",
       "    </tr>\n",
       "    <tr>\n",
       "      <th>2013</th>\n",
       "      <td>780850.0</td>\n",
       "    </tr>\n",
       "    <tr>\n",
       "      <th>2014</th>\n",
       "      <td>875225.0</td>\n",
       "    </tr>\n",
       "    <tr>\n",
       "      <th>2015</th>\n",
       "      <td>808150.0</td>\n",
       "    </tr>\n",
       "    <tr>\n",
       "      <th>2016</th>\n",
       "      <td>579975.0</td>\n",
       "    </tr>\n",
       "    <tr>\n",
       "      <th>2017</th>\n",
       "      <td>536500.0</td>\n",
       "    </tr>\n",
       "  </tbody>\n",
       "</table>\n",
       "</div>"
      ],
      "text/plain": [
       "                    funded_amount\n",
       "country_code yearD               \n",
       "AF           2007        194975.0\n",
       "             2008        365375.0\n",
       "             2009        581825.0\n",
       "             2010        563350.0\n",
       "             2011        245125.0\n",
       "             2015          6000.0\n",
       "             2016          8000.0\n",
       "AL           2012        411775.0\n",
       "             2013        780850.0\n",
       "             2014        875225.0\n",
       "             2015        808150.0\n",
       "             2016        579975.0\n",
       "             2017        536500.0"
      ]
     },
     "execution_count": 40,
     "metadata": {},
     "output_type": "execute_result"
    },
    {
     "name": "stdout",
     "output_type": "stream",
     "text": [
      "time: 347 ms\n"
     ]
    }
   ],
   "source": [
    "Xanno2=pd.DataFrame(loans.groupby(['country_code','yearD'])['funded_amount'].sum()) \n",
    "Xanno2.head(13)"
   ]
  },
  {
   "cell_type": "code",
   "execution_count": 41,
   "metadata": {},
   "outputs": [
    {
     "data": {
      "text/plain": [
       "Text(0.5, 1.0, 'Time Series of 3 countries (PH, PE, KE) who borrowed more amount of money than any other')"
      ]
     },
     "execution_count": 41,
     "metadata": {},
     "output_type": "execute_result"
    },
    {
     "data": {
      "image/png": "[encoded data removed]",
      "text/plain": [
       "<Figure size 432x288 with 1 Axes>"
      ]
     },
     "metadata": {
      "needs_background": "light"
     },
     "output_type": "display_data"
    },
    {
     "name": "stdout",
     "output_type": "stream",
     "text": [
      "time: 590 ms\n"
     ]
    }
   ],
   "source": [
    "TimeSeries(Xanno2,'funded_amount','PH','PE','KE')\n",
    "plt.title('Time Series of 3 countries (PH, PE, KE) who borrowed more amount of money than any other')"
   ]
  },
  {
   "cell_type": "markdown",
   "metadata": {},
   "source": [
    "**7) in riferimento al 6**\n",
    "\n",
    "Si mostrano le percentuali di ogni paese, divise per anno, tra la quantità (funded_amount) presa in prestito e quella prestata (lent_amount).\n",
    "Non essendo particolarmente utile applicare la funzione TimeSeries in quanto il confronto può essere svolto sia tra Stati con %_funded-lent minimi che massimi\n",
    "e in molti casi i dati tra gli anni sono assenti, ci si è limitati ad esibire il dataframe richiesto (diviso per anno)."
   ]
  },
  {
   "cell_type": "code",
   "execution_count": 42,
   "metadata": {
    "collapsed": true,
    "jupyter": {
     "outputs_hidden": true
    }
   },
   "outputs": [
    {
     "data": {
      "text/html": [
       "<div>\n",
       "<style scoped>\n",
       "    .dataframe tbody tr th:only-of-type {\n",
       "        vertical-align: middle;\n",
       "    }\n",
       "\n",
       "    .dataframe tbody tr th {\n",
       "        vertical-align: top;\n",
       "    }\n",
       "\n",
       "    .dataframe thead th {\n",
       "        text-align: right;\n",
       "    }\n",
       "</style>\n",
       "<table border=\"1\" class=\"dataframe\">\n",
       "  <thead>\n",
       "    <tr style=\"text-align: right;\">\n",
       "      <th></th>\n",
       "      <th></th>\n",
       "      <th>%_funded-lent_perYear</th>\n",
       "    </tr>\n",
       "    <tr>\n",
       "      <th>country_code</th>\n",
       "      <th>yearD</th>\n",
       "      <th></th>\n",
       "    </tr>\n",
       "  </thead>\n",
       "  <tbody>\n",
       "    <tr>\n",
       "      <th rowspan=\"7\" valign=\"top\">AF</th>\n",
       "      <th>2007</th>\n",
       "      <td>9.907518</td>\n",
       "    </tr>\n",
       "    <tr>\n",
       "      <th>2008</th>\n",
       "      <td>18.566275</td>\n",
       "    </tr>\n",
       "    <tr>\n",
       "      <th>2009</th>\n",
       "      <td>29.565030</td>\n",
       "    </tr>\n",
       "    <tr>\n",
       "      <th>2010</th>\n",
       "      <td>28.626235</td>\n",
       "    </tr>\n",
       "    <tr>\n",
       "      <th>2011</th>\n",
       "      <td>12.455855</td>\n",
       "    </tr>\n",
       "    <tr>\n",
       "      <th>2015</th>\n",
       "      <td>0.304886</td>\n",
       "    </tr>\n",
       "    <tr>\n",
       "      <th>2016</th>\n",
       "      <td>0.406514</td>\n",
       "    </tr>\n",
       "    <tr>\n",
       "      <th rowspan=\"6\" valign=\"top\">AL</th>\n",
       "      <th>2012</th>\n",
       "      <td>9.559822</td>\n",
       "    </tr>\n",
       "    <tr>\n",
       "      <th>2013</th>\n",
       "      <td>18.128316</td>\n",
       "    </tr>\n",
       "    <tr>\n",
       "      <th>2014</th>\n",
       "      <td>20.319338</td>\n",
       "    </tr>\n",
       "    <tr>\n",
       "      <th>2015</th>\n",
       "      <td>18.762116</td>\n",
       "    </tr>\n",
       "    <tr>\n",
       "      <th>2016</th>\n",
       "      <td>13.464775</td>\n",
       "    </tr>\n",
       "    <tr>\n",
       "      <th>2017</th>\n",
       "      <td>12.455454</td>\n",
       "    </tr>\n",
       "  </tbody>\n",
       "</table>\n",
       "</div>"
      ],
      "text/plain": [
       "                    %_funded-lent_perYear\n",
       "country_code yearD                       \n",
       "AF           2007                9.907518\n",
       "             2008               18.566275\n",
       "             2009               29.565030\n",
       "             2010               28.626235\n",
       "             2011               12.455855\n",
       "             2015                0.304886\n",
       "             2016                0.406514\n",
       "AL           2012                9.559822\n",
       "             2013               18.128316\n",
       "             2014               20.319338\n",
       "             2015               18.762116\n",
       "             2016               13.464775\n",
       "             2017               12.455454"
      ]
     },
     "execution_count": 42,
     "metadata": {},
     "output_type": "execute_result"
    },
    {
     "name": "stdout",
     "output_type": "stream",
     "text": [
      "time: 648 ms\n"
     ]
    }
   ],
   "source": [
    "Xanno3=pd.DataFrame((loans.groupby(['country_code','yearD'])['funded_amount'].sum())/(loans['loan_amount'].groupby(loans['country_code']).sum())*100).rename(columns={0:'%_funded-lent_perYear'}) \n",
    "Xanno3.head(13)"
   ]
  },
  {
   "cell_type": "markdown",
   "metadata": {},
   "source": [
    "***"
   ]
  },
  {
   "cell_type": "markdown",
   "metadata": {},
   "source": [
    "# 8) For each lender, compute the overall amount of money lent. For each loan that has more than one lender, you must assume that all lenders contributed the same amount. "
   ]
  },
  {
   "cell_type": "markdown",
   "metadata": {},
   "source": [
    "Originariamente il lavoro svolto per rispondere alla query 8) era legato al 1). La risoluzione consisteva nel richiamare la funzione creata in 1) e applicarla nuovamente, con il supplemento di una colonna contenente per ogni prestito il numero di lenders che hanno partecipato. Non ci si avvale del suddetto procedimento in quanto i tempi di esecuzione sono aggravati dalle numerose operazioni svolte all'interno del ciclo for. Mentre la strategia conseguita, consiste nel fondere le due colonne 'loan_id', 'loan_amount' del dataset 'loans' con il dataset 'lender'. Successivamente, come suggerito in 1), si separano i lenders e si calcolano per ogni prestito i rapporti tra 'loan_amount' e il numero di 'lenders', in modo da assegnare una quota uniforme a ciascun prestatore.\n",
    "Nonostante lo svolgimento dell'algoritmo impiega poco meno di 1 min per fornire il risultato richiesto, è stato il più efficiente tra i metodi impiegati."
   ]
  },
  {
   "cell_type": "code",
   "execution_count": 51,
   "metadata": {
    "collapsed": true,
    "jupyter": {
     "outputs_hidden": true
    }
   },
   "outputs": [
    {
     "data": {
      "text/html": [
       "<div>\n",
       "<style scoped>\n",
       "    .dataframe tbody tr th:only-of-type {\n",
       "        vertical-align: middle;\n",
       "    }\n",
       "\n",
       "    .dataframe tbody tr th {\n",
       "        vertical-align: top;\n",
       "    }\n",
       "\n",
       "    .dataframe thead th {\n",
       "        text-align: right;\n",
       "    }\n",
       "</style>\n",
       "<table border=\"1\" class=\"dataframe\">\n",
       "  <thead>\n",
       "    <tr style=\"text-align: right;\">\n",
       "      <th></th>\n",
       "      <th>loan_id</th>\n",
       "      <th>loan_amount</th>\n",
       "      <th>lenders</th>\n",
       "    </tr>\n",
       "  </thead>\n",
       "  <tbody>\n",
       "    <tr>\n",
       "      <th>0</th>\n",
       "      <td>657307</td>\n",
       "      <td>125.0</td>\n",
       "      <td>spencer5657, matthew8640, larry71496105</td>\n",
       "    </tr>\n",
       "    <tr>\n",
       "      <th>1</th>\n",
       "      <td>657259</td>\n",
       "      <td>400.0</td>\n",
       "      <td>ltr, andrew5306, dana9865, WHYu, robert9784528...</td>\n",
       "    </tr>\n",
       "    <tr>\n",
       "      <th>2</th>\n",
       "      <td>658010</td>\n",
       "      <td>400.0</td>\n",
       "      <td>kathy3100, omar7511, amirali5409, bingo, genie...</td>\n",
       "    </tr>\n",
       "  </tbody>\n",
       "</table>\n",
       "</div>"
      ],
      "text/plain": [
       "   loan_id  loan_amount                                            lenders\n",
       "0   657307        125.0            spencer5657, matthew8640, larry71496105\n",
       "1   657259        400.0  ltr, andrew5306, dana9865, WHYu, robert9784528...\n",
       "2   658010        400.0  kathy3100, omar7511, amirali5409, bingo, genie..."
      ]
     },
     "execution_count": 51,
     "metadata": {},
     "output_type": "execute_result"
    },
    {
     "name": "stdout",
     "output_type": "stream",
     "text": [
      "time: 1.36 s\n"
     ]
    }
   ],
   "source": [
    "unione=pd.merge(loans[['loan_id','loan_amount']],lender,on='loan_id')  \n",
    "# Si arricchisce il dataset lender con le colonne 'loan_id' e 'loan_amount' del dataset loans\n",
    "unione.head(3)"
   ]
  },
  {
   "cell_type": "code",
   "execution_count": 56,
   "metadata": {
    "collapsed": true,
    "jupyter": {
     "outputs_hidden": true
    }
   },
   "outputs": [
    {
     "data": {
      "text/html": [
       "<div>\n",
       "<style scoped>\n",
       "    .dataframe tbody tr th:only-of-type {\n",
       "        vertical-align: middle;\n",
       "    }\n",
       "\n",
       "    .dataframe tbody tr th {\n",
       "        vertical-align: top;\n",
       "    }\n",
       "\n",
       "    .dataframe thead th {\n",
       "        text-align: right;\n",
       "    }\n",
       "</style>\n",
       "<table border=\"1\" class=\"dataframe\">\n",
       "  <thead>\n",
       "    <tr style=\"text-align: right;\">\n",
       "      <th></th>\n",
       "      <th>lenders</th>\n",
       "      <th>money_lent</th>\n",
       "    </tr>\n",
       "  </thead>\n",
       "  <tbody>\n",
       "    <tr>\n",
       "      <th>42</th>\n",
       "      <td>gooddogg1</td>\n",
       "      <td>8.606081e+06</td>\n",
       "    </tr>\n",
       "    <tr>\n",
       "      <th>18</th>\n",
       "      <td>trolltech4460</td>\n",
       "      <td>6.068669e+06</td>\n",
       "    </tr>\n",
       "    <tr>\n",
       "      <th>16</th>\n",
       "      <td>nms</td>\n",
       "      <td>4.783928e+06</td>\n",
       "    </tr>\n",
       "    <tr>\n",
       "      <th>313</th>\n",
       "      <td>jouko1940</td>\n",
       "      <td>4.742672e+06</td>\n",
       "    </tr>\n",
       "    <tr>\n",
       "      <th>1042</th>\n",
       "      <td>gmct</td>\n",
       "      <td>4.601058e+06</td>\n",
       "    </tr>\n",
       "  </tbody>\n",
       "</table>\n",
       "</div>"
      ],
      "text/plain": [
       "            lenders    money_lent\n",
       "42        gooddogg1  8.606081e+06\n",
       "18    trolltech4460  6.068669e+06\n",
       "16              nms  4.783928e+06\n",
       "313       jouko1940  4.742672e+06\n",
       "1042           gmct  4.601058e+06"
      ]
     },
     "execution_count": 56,
     "metadata": {},
     "output_type": "execute_result"
    },
    {
     "name": "stdout",
     "output_type": "stream",
     "text": [
      "time: 33.7 s\n"
     ]
    }
   ],
   "source": [
    "diz={}\n",
    "for ii,i in zip(unione['lenders'],unione['loan_amount']):\n",
    "    p=ii.split(', ')        # Si divide ogni elemento della colonna 'lenders' in tutti i lender in esso contenente\n",
    "    fraz=i/len(p)           # Si calcola la frazione tra l'importo del prestito e il numero di prestatori che hanno contribuito\n",
    "    for el in p:\n",
    "        if el in diz:       # Se lender è presente in diz\n",
    "            diz[el]+=fraz   # Si somma la quantità prestata nel dizionario\n",
    "        else:               # Se lender è assente in diz\n",
    "            diz[el]=fraz    # Si aggiunge in diz il nuovo lender e la quantità prestata\n",
    "date=pd.DataFrame({'lenders':list(diz.keys()),'money_lent':list(diz.values())})    #len(date) -->1376228\n",
    "date.sort_values(by='money_lent',ascending=False).head()"
   ]
  },
  {
   "cell_type": "markdown",
   "metadata": {},
   "source": [
    "Si conferma che l'algoritmo ha generato un risultato coerente con quello pronosticato nel momento in cui la somma del denaro prestato da ogni investitore è uguale al totale ammontare di soldi prestati. Il numero di investitori è 1376228 e l'intera somma di denaro prestato è 1156520775."
   ]
  },
  {
   "cell_type": "code",
   "execution_count": 57,
   "metadata": {},
   "outputs": [
    {
     "data": {
      "text/plain": [
       "True"
      ]
     },
     "execution_count": 57,
     "metadata": {},
     "output_type": "execute_result"
    },
    {
     "name": "stdout",
     "output_type": "stream",
     "text": [
      "time: 652 ms\n"
     ]
    }
   ],
   "source": [
    "round(sum(date['money_lent']),2)==sum(unione['loan_amount'])  # 1156520775.0"
   ]
  },
  {
   "cell_type": "markdown",
   "metadata": {},
   "source": [
    "Successivamente si presentano tramite barchart i primi 50 Stati in ordine decrescente secondo 'money_lent': il totale monetario di prestiti effettuati per investitore. Secondo questo metodo di calcolo si identifica come contribuente più generoso lo stesso che ha partecipato in maggior misura, ovvero: 'gooddogg1' con oltre 8.5 milioni sborsati."
   ]
  },
  {
   "cell_type": "code",
   "execution_count": 58,
   "metadata": {},
   "outputs": [
    {
     "data": {
      "text/plain": [
       "Text(0.5, 1.0, 'Top 50 lenders by overal amount of money lent')"
      ]
     },
     "execution_count": 58,
     "metadata": {},
     "output_type": "execute_result"
    },
    {
     "data": {
      "image/png": "[encoded data removed]",
      "text/plain": [
       "<Figure size 2160x360 with 1 Axes>"
      ]
     },
     "metadata": {
      "needs_background": "light"
     },
     "output_type": "display_data"
    },
    {
     "name": "stdout",
     "output_type": "stream",
     "text": [
      "time: 3.07 s\n"
     ]
    }
   ],
   "source": [
    "xx=sea.catplot('lenders','money_lent', data=date.sort_values('money_lent',ascending=0).head(50),kind=\"bar\",aspect=6,palette='ocean')\n",
    "xx.set_xticklabels(rotation=45)\n",
    "plt.title('Top 50 lenders by overal amount of money lent',fontsize=22)"
   ]
  },
  {
   "cell_type": "markdown",
   "metadata": {},
   "source": [
    "***"
   ]
  },
  {
   "cell_type": "markdown",
   "metadata": {},
   "source": [
    "# 9) For each country, compute the difference between the overall amount of money lent and the overall amount of money borrowed. Since the country of the lender is often unknown, you can assume that the true distribution among the countries is the same as the one computed from the rows where the country is known."
   ]
  },
  {
   "cell_type": "markdown",
   "metadata": {},
   "source": [
    "A partire dalla prima riga di codice, si aggregano le nazioni sommando singolarmente i versamenti('loan_amount') e singolarmente i prestiti ricevuti('funded_amount').\n",
    "Si calcola poi 'diff' come differenza tra le variabili 'loan_amount' e 'funded_amount'\n",
    "Si osservano i dieci paesi che hanno la maggior differenza tra ammontare prestato e preso in prestito nella tabella riassuntiva 'Difference'.\n",
    "El salvador (SV) risulta essere il contribuente che ha donato più di quanto abbia ricevuto, con differenza pari a 3809875 (quasi 4 milioni). \n",
    "D'altro canto 20 Stati su 91 hanno differenza nulla, quindi non hanno 'conti in sospeso'."
   ]
  },
  {
   "cell_type": "code",
   "execution_count": 59,
   "metadata": {
    "collapsed": true,
    "jupyter": {
     "outputs_hidden": true
    }
   },
   "outputs": [
    {
     "data": {
      "text/html": [
       "<div>\n",
       "<style scoped>\n",
       "    .dataframe tbody tr th:only-of-type {\n",
       "        vertical-align: middle;\n",
       "    }\n",
       "\n",
       "    .dataframe tbody tr th {\n",
       "        vertical-align: top;\n",
       "    }\n",
       "\n",
       "    .dataframe thead th {\n",
       "        text-align: right;\n",
       "    }\n",
       "</style>\n",
       "<table border=\"1\" class=\"dataframe\">\n",
       "  <thead>\n",
       "    <tr style=\"text-align: right;\">\n",
       "      <th></th>\n",
       "      <th>country_code</th>\n",
       "      <th>loan_amount</th>\n",
       "      <th>funded_amount</th>\n",
       "      <th>diff</th>\n",
       "    </tr>\n",
       "  </thead>\n",
       "  <tbody>\n",
       "    <tr>\n",
       "      <th>0</th>\n",
       "      <td>SV</td>\n",
       "      <td>41691550.0</td>\n",
       "      <td>37881675.0</td>\n",
       "      <td>3809875.0</td>\n",
       "    </tr>\n",
       "    <tr>\n",
       "      <th>1</th>\n",
       "      <td>KE</td>\n",
       "      <td>66643300.0</td>\n",
       "      <td>63595300.0</td>\n",
       "      <td>3048000.0</td>\n",
       "    </tr>\n",
       "    <tr>\n",
       "      <th>2</th>\n",
       "      <td>AM</td>\n",
       "      <td>22950475.0</td>\n",
       "      <td>20284675.0</td>\n",
       "      <td>2665800.0</td>\n",
       "    </tr>\n",
       "    <tr>\n",
       "      <th>3</th>\n",
       "      <td>TJ</td>\n",
       "      <td>39621075.0</td>\n",
       "      <td>37049775.0</td>\n",
       "      <td>2571300.0</td>\n",
       "    </tr>\n",
       "    <tr>\n",
       "      <th>4</th>\n",
       "      <td>CO</td>\n",
       "      <td>23613975.0</td>\n",
       "      <td>21052825.0</td>\n",
       "      <td>2561150.0</td>\n",
       "    </tr>\n",
       "  </tbody>\n",
       "</table>\n",
       "</div>"
      ],
      "text/plain": [
       "  country_code  loan_amount  funded_amount       diff\n",
       "0           SV   41691550.0     37881675.0  3809875.0\n",
       "1           KE   66643300.0     63595300.0  3048000.0\n",
       "2           AM   22950475.0     20284675.0  2665800.0\n",
       "3           TJ   39621075.0     37049775.0  2571300.0\n",
       "4           CO   23613975.0     21052825.0  2561150.0"
      ]
     },
     "execution_count": 59,
     "metadata": {},
     "output_type": "execute_result"
    },
    {
     "name": "stdout",
     "output_type": "stream",
     "text": [
      "time: 273 ms\n"
     ]
    }
   ],
   "source": [
    "Difference=loans.groupby(loans['country_code'])['loan_amount','funded_amount'].sum()\n",
    "Difference['diff']=Difference['loan_amount']-Difference['funded_amount']\n",
    "Difference.sort_values(by=['diff'],ascending=False).reset_index().head()"
   ]
  },
  {
   "cell_type": "code",
   "execution_count": 60,
   "metadata": {},
   "outputs": [
    {
     "data": {
      "text/plain": [
       "20"
      ]
     },
     "execution_count": 60,
     "metadata": {},
     "output_type": "execute_result"
    },
    {
     "name": "stdout",
     "output_type": "stream",
     "text": [
      "time: 3.45 ms\n"
     ]
    }
   ],
   "source": [
    "len(Difference[Difference['diff']==0])                 # Quanti Stati hanno differenza pari a 0?"
   ]
  },
  {
   "cell_type": "code",
   "execution_count": 61,
   "metadata": {},
   "outputs": [
    {
     "data": {
      "text/plain": [
       "Text(0.5, 1.0, 'Top 50 countries by difference between the overall amount of money lent and that of money borrowed')"
      ]
     },
     "execution_count": 61,
     "metadata": {},
     "output_type": "execute_result"
    },
    {
     "data": {
      "image/png": "[encoded data removed]",
      "text/plain": [
       "<Figure size 1440x360 with 1 Axes>"
      ]
     },
     "metadata": {
      "needs_background": "light"
     },
     "output_type": "display_data"
    },
    {
     "name": "stdout",
     "output_type": "stream",
     "text": [
      "time: 1.79 s\n"
     ]
    }
   ],
   "source": [
    "sea.catplot('country_code','diff', data=Difference.sort_values(by=['diff'],ascending=False).reset_index().head(50),kind=\"bar\",aspect=4,palette='plasma')\n",
    "plt.title('Top 50 countries by difference between the overall amount of money lent and that of money borrowed',fontsize=22)"
   ]
  },
  {
   "cell_type": "markdown",
   "metadata": {},
   "source": [
    "**Since the country of the lender is often unknown, you can assume that the true distribution among the countries is the same as the one computed from the rows where the country is known.** \n",
    "\n",
    "In precedenza sono stati sostituiti i 9 country_code con valore NaN (sconosciuto) corrispondenti alla Namibia con il codice nazionale NM, infatti non risultano essere presenti ulteriori missing: "
   ]
  },
  {
   "cell_type": "code",
   "execution_count": 62,
   "metadata": {},
   "outputs": [
    {
     "name": "stdout",
     "output_type": "stream",
     "text": [
      "time: 997 µs\n"
     ]
    }
   ],
   "source": [
    "#loans['country_name'].isnull().sum()   --> 0 missing\n",
    "#loans['country_code'].isnull().sum()   --> 0 missing"
   ]
  },
  {
   "cell_type": "markdown",
   "metadata": {},
   "source": [
    "***"
   ]
  },
  {
   "cell_type": "markdown",
   "metadata": {},
   "source": [
    "# 10) Which country has the highest ratio between the difference computed at the previous point and the population?"
   ]
  },
  {
   "cell_type": "markdown",
   "metadata": {},
   "source": [
    "Lo scopo di questa richiesta è quella di trovare il paese che fornisca il maggior ammontare di prestito rispetto alla propria popolazione. \n",
    "West Samoa(WS) è questo paese e ha un rapporto pari a 3.58099, seguito dalla Armenia(AM) 0.90969 e in 3° posizione El Salvador(SV) 0.59736.\n",
    "Quindi a livello puramente chiarificatore, ogni cittadino del West Samoa ha mediamente prestato 3.58099 dollari in più di quanti ne abbia presi in prestito. Si integra un ortogramma per avere un diverso approccio visivo e infatti si evince una chiara distinzione tra gli Stati. Già dal secondo posizionamento (AM = Armenia) in poi il 'ratio' scema progressivamente con grande intensità.\n",
    "Il dataframe finale Fusion contiene le variabili: 'country_code', 'population', 'population_below_poverty_line', 'diff' e 'ratio'.\n"
   ]
  },
  {
   "cell_type": "code",
   "execution_count": 63,
   "metadata": {
    "jupyter": {
     "outputs_hidden": true
    }
   },
   "outputs": [
    {
     "data": {
      "text/html": [
       "<div>\n",
       "<style scoped>\n",
       "    .dataframe tbody tr th:only-of-type {\n",
       "        vertical-align: middle;\n",
       "    }\n",
       "\n",
       "    .dataframe tbody tr th {\n",
       "        vertical-align: top;\n",
       "    }\n",
       "\n",
       "    .dataframe thead th {\n",
       "        text-align: right;\n",
       "    }\n",
       "</style>\n",
       "<table border=\"1\" class=\"dataframe\">\n",
       "  <thead>\n",
       "    <tr style=\"text-align: right;\">\n",
       "      <th></th>\n",
       "      <th>country_code</th>\n",
       "      <th>population</th>\n",
       "      <th>population_below_poverty_line</th>\n",
       "      <th>diff</th>\n",
       "      <th>ratio</th>\n",
       "    </tr>\n",
       "  </thead>\n",
       "  <tbody>\n",
       "    <tr>\n",
       "      <th>87</th>\n",
       "      <td>WS</td>\n",
       "      <td>196440</td>\n",
       "      <td>NaN</td>\n",
       "      <td>703450.0</td>\n",
       "      <td>3.580992</td>\n",
       "    </tr>\n",
       "    <tr>\n",
       "      <th>71</th>\n",
       "      <td>AM</td>\n",
       "      <td>2930450</td>\n",
       "      <td>32.0</td>\n",
       "      <td>2665800.0</td>\n",
       "      <td>0.909690</td>\n",
       "    </tr>\n",
       "    <tr>\n",
       "      <th>57</th>\n",
       "      <td>SV</td>\n",
       "      <td>6377853</td>\n",
       "      <td>34.9</td>\n",
       "      <td>3809875.0</td>\n",
       "      <td>0.597360</td>\n",
       "    </tr>\n",
       "  </tbody>\n",
       "</table>\n",
       "</div>"
      ],
      "text/plain": [
       "   country_code  population  population_below_poverty_line       diff  \\\n",
       "87           WS      196440                            NaN   703450.0   \n",
       "71           AM     2930450                           32.0  2665800.0   \n",
       "57           SV     6377853                           34.9  3809875.0   \n",
       "\n",
       "       ratio  \n",
       "87  3.580992  \n",
       "71  0.909690  \n",
       "57  0.597360  "
      ]
     },
     "execution_count": 63,
     "metadata": {},
     "output_type": "execute_result"
    },
    {
     "name": "stdout",
     "output_type": "stream",
     "text": [
      "time: 39.9 ms\n"
     ]
    }
   ],
   "source": [
    "Fusion=pd.merge(country,Difference,on='country_code')   # Si fonde il dataframe 'Differenza' con il dataset 'country' in relazione alla variabile 'country_code'\n",
    "Fusion['ratio']=Fusion['diff']/Fusion['population']     # Si aggiunge una nuova colonna ratio che rapporta la differenza con la popolazione di ogni Stato\n",
    "Fusion=pd.DataFrame({'country_code': Fusion['country_code'],'population':Fusion['population'],'population_below_poverty_line':Fusion['population_below_poverty_line'],'diff':Fusion['diff'],'ratio':Fusion['ratio']}).sort_values(by=['ratio'],ascending=False)\n",
    "Fusion.head(3)"
   ]
  },
  {
   "cell_type": "code",
   "execution_count": 64,
   "metadata": {},
   "outputs": [
    {
     "data": {
      "text/plain": [
       "Text(0.5, 1.0, 'Top 50 countries by ratio between difference among money lent and borrowed and the population')"
      ]
     },
     "execution_count": 64,
     "metadata": {},
     "output_type": "execute_result"
    },
    {
     "data": {
      "image/png": "[encoded data removed]",
      "text/plain": [
       "<Figure size 1440x360 with 1 Axes>"
      ]
     },
     "metadata": {
      "needs_background": "light"
     },
     "output_type": "display_data"
    },
    {
     "name": "stdout",
     "output_type": "stream",
     "text": [
      "time: 1.72 s\n"
     ]
    }
   ],
   "source": [
    "sea.catplot('country_code','ratio', data=Fusion.sort_values('ratio',ascending=0).head(50),kind=\"bar\",aspect=4,palette='terrain')\n",
    "plt.title('Top 50 countries by ratio between difference among money lent and borrowed and the population',fontsize=22)"
   ]
  },
  {
   "cell_type": "markdown",
   "metadata": {},
   "source": [
    "***"
   ]
  },
  {
   "cell_type": "markdown",
   "metadata": {},
   "source": [
    "# 11) Which country has the highest ratio between the difference computed at point 9 and the population that is not below the poverty line?"
   ]
  },
  {
   "cell_type": "markdown",
   "metadata": {},
   "source": [
    "Si calcola la relazione ('newratio') tra la differenza ('diff') del punto 9 e la popolazione sopra la linea di povertà che si misura nel seguente modo:\n",
    "\n",
    "(100 - 'population_below_poverty_line')*'population'\n",
    "\n",
    "L'Armenia (AM) con valore 1.337779 è la nazione con il maggiore 'newratio', quindi mediamente ogni cittadino della fascia non povera presta 1.337779 in più a quanto prende in prestito."
   ]
  },
  {
   "cell_type": "code",
   "execution_count": 65,
   "metadata": {
    "collapsed": true,
    "jupyter": {
     "outputs_hidden": true
    }
   },
   "outputs": [
    {
     "data": {
      "text/html": [
       "<div>\n",
       "<style scoped>\n",
       "    .dataframe tbody tr th:only-of-type {\n",
       "        vertical-align: middle;\n",
       "    }\n",
       "\n",
       "    .dataframe tbody tr th {\n",
       "        vertical-align: top;\n",
       "    }\n",
       "\n",
       "    .dataframe thead th {\n",
       "        text-align: right;\n",
       "    }\n",
       "</style>\n",
       "<table border=\"1\" class=\"dataframe\">\n",
       "  <thead>\n",
       "    <tr style=\"text-align: right;\">\n",
       "      <th></th>\n",
       "      <th>country_code</th>\n",
       "      <th>population</th>\n",
       "      <th>population_below_poverty_line</th>\n",
       "      <th>diff</th>\n",
       "      <th>ratio</th>\n",
       "      <th>newratio</th>\n",
       "    </tr>\n",
       "  </thead>\n",
       "  <tbody>\n",
       "    <tr>\n",
       "      <th>71</th>\n",
       "      <td>AM</td>\n",
       "      <td>2930450</td>\n",
       "      <td>32.0</td>\n",
       "      <td>2665800.0</td>\n",
       "      <td>0.90969</td>\n",
       "      <td>1.337779</td>\n",
       "    </tr>\n",
       "  </tbody>\n",
       "</table>\n",
       "</div>"
      ],
      "text/plain": [
       "   country_code  population  population_below_poverty_line       diff  \\\n",
       "71           AM     2930450                           32.0  2665800.0   \n",
       "\n",
       "      ratio  newratio  \n",
       "71  0.90969  1.337779  "
      ]
     },
     "execution_count": 65,
     "metadata": {},
     "output_type": "execute_result"
    },
    {
     "name": "stdout",
     "output_type": "stream",
     "text": [
      "time: 21.9 ms\n"
     ]
    }
   ],
   "source": [
    "Fusion['newratio']=Fusion['diff']/((100-Fusion['population_below_poverty_line'])*Fusion['population']/100) \n",
    "Fusion.sort_values(by=['newratio'],ascending=False).head(1)"
   ]
  },
  {
   "cell_type": "code",
   "execution_count": 66,
   "metadata": {},
   "outputs": [
    {
     "data": {
      "text/plain": [
       "Text(0.5, 1.0, 'Top 50 countries by ratio between difference among money lent and borrowed and the population that is not below the poverty line')"
      ]
     },
     "execution_count": 66,
     "metadata": {},
     "output_type": "execute_result"
    },
    {
     "data": {
      "image/png": "[encoded data removed]",
      "text/plain": [
       "<Figure size 1440x360 with 1 Axes>"
      ]
     },
     "metadata": {
      "needs_background": "light"
     },
     "output_type": "display_data"
    },
    {
     "name": "stdout",
     "output_type": "stream",
     "text": [
      "time: 29.9 s\n"
     ]
    }
   ],
   "source": [
    "sea.catplot('country_code','newratio', data=Fusion.sort_values(by=['newratio'],ascending=False).head(50),kind=\"bar\",aspect=4,palette='cool')\n",
    "plt.title('Top 50 countries by ratio between difference among money lent and borrowed and the population that is not below the poverty line',fontsize=20)"
   ]
  },
  {
   "cell_type": "markdown",
   "metadata": {},
   "source": [
    "***"
   ]
  },
  {
   "cell_type": "markdown",
   "metadata": {},
   "source": [
    "# 12) For each year, compute the total amount of loans. Each loan that has planned expiration time and disburse time in different years must have its amount distributed proportionally to the number of days in each year. For example, a loan with disburse time December 1st, 2016, planned expiration time January 30th 2018, and amount 5000USD has an amount of 5000USD * 31 / (31+365+30) = 363.85 for 2016, 5000USD * 365 / (31+365+30) = 4284.04 for 2017, and 5000USD * 30 / (31+365+30) = 352.11 for 2018. "
   ]
  },
  {
   "cell_type": "markdown",
   "metadata": {},
   "source": [
    "Si necessita di pulire la colonna 'planned_expiration_time' dai valori nulli. Se, al contrario, si sostituissero i missing values con dei valori arbitrari si rischierebbe di compromettere i risultati finali. Infatti il problema principale è che la differenza tra gli anni varia notevolmente in [-140,1670], quindi bisognerebbe considerare anche questo fattore.\n",
    "\n",
    "Tramite questa operazione di rimozione, le righe passano da 1416764 a 1044940, eliminando 371824 righe. La perdita d'informazione equivale al 26% del dataset 'loans'."
   ]
  },
  {
   "cell_type": "code",
   "execution_count": 68,
   "metadata": {},
   "outputs": [
    {
     "name": "stdout",
     "output_type": "stream",
     "text": [
      "time: 1.41 s\n"
     ]
    }
   ],
   "source": [
    "loans=loans[loans['planned_expiration_time'].isnull()==False] "
   ]
  },
  {
   "cell_type": "markdown",
   "metadata": {},
   "source": [
    "Si inseriscono nel dataset 'loans' tre variabili aggiuntive, quali:\n",
    "- 'yearD' --> Anno della data in cui il prestito è avvenuto ('disburse_time').\n",
    "- 'ydayP' --> Giorno della data di scadenza del prestito ('planned_expiration_time').\n",
    "- 'ydayD' --> Giorno della data in cui il prestito è avvenuto ('disburse_time').\n",
    "\n",
    "e si mostrano le prime righe delle variabili a cui verranno poste diverse interrogazioni nelle celle successive."
   ]
  },
  {
   "cell_type": "code",
   "execution_count": 69,
   "metadata": {},
   "outputs": [
    {
     "data": {
      "text/html": [
       "<div>\n",
       "<style scoped>\n",
       "    .dataframe tbody tr th:only-of-type {\n",
       "        vertical-align: middle;\n",
       "    }\n",
       "\n",
       "    .dataframe tbody tr th {\n",
       "        vertical-align: top;\n",
       "    }\n",
       "\n",
       "    .dataframe thead th {\n",
       "        text-align: right;\n",
       "    }\n",
       "</style>\n",
       "<table border=\"1\" class=\"dataframe\">\n",
       "  <thead>\n",
       "    <tr style=\"text-align: right;\">\n",
       "      <th></th>\n",
       "      <th>disburse_time</th>\n",
       "      <th>planned_expiration_time</th>\n",
       "      <th>yearP</th>\n",
       "      <th>yearD</th>\n",
       "      <th>ydayP</th>\n",
       "      <th>ydayD</th>\n",
       "      <th>loan_amount</th>\n",
       "    </tr>\n",
       "  </thead>\n",
       "  <tbody>\n",
       "    <tr>\n",
       "      <th>0</th>\n",
       "      <td>2013-12-22 08:00:00+00:00</td>\n",
       "      <td>2014-02-14 03:30:06+00:00</td>\n",
       "      <td>2014</td>\n",
       "      <td>2013</td>\n",
       "      <td>14</td>\n",
       "      <td>22</td>\n",
       "      <td>125.0</td>\n",
       "    </tr>\n",
       "    <tr>\n",
       "      <th>1</th>\n",
       "      <td>2013-12-20 08:00:00+00:00</td>\n",
       "      <td>2014-03-26 22:25:07+00:00</td>\n",
       "      <td>2014</td>\n",
       "      <td>2013</td>\n",
       "      <td>26</td>\n",
       "      <td>20</td>\n",
       "      <td>400.0</td>\n",
       "    </tr>\n",
       "    <tr>\n",
       "      <th>2</th>\n",
       "      <td>2014-01-09 08:00:00+00:00</td>\n",
       "      <td>2014-02-15 21:10:05+00:00</td>\n",
       "      <td>2014</td>\n",
       "      <td>2014</td>\n",
       "      <td>15</td>\n",
       "      <td>9</td>\n",
       "      <td>400.0</td>\n",
       "    </tr>\n",
       "  </tbody>\n",
       "</table>\n",
       "</div>"
      ],
      "text/plain": [
       "              disburse_time   planned_expiration_time  yearP  yearD  ydayP  \\\n",
       "0 2013-12-22 08:00:00+00:00 2014-02-14 03:30:06+00:00   2014   2013     14   \n",
       "1 2013-12-20 08:00:00+00:00 2014-03-26 22:25:07+00:00   2014   2013     26   \n",
       "2 2014-01-09 08:00:00+00:00 2014-02-15 21:10:05+00:00   2014   2014     15   \n",
       "\n",
       "   ydayD  loan_amount  \n",
       "0     22        125.0  \n",
       "1     20        400.0  \n",
       "2      9        400.0  "
      ]
     },
     "execution_count": 69,
     "metadata": {},
     "output_type": "execute_result"
    },
    {
     "name": "stdout",
     "output_type": "stream",
     "text": [
      "time: 4.9 s\n"
     ]
    }
   ],
   "source": [
    "loans['planned_expiration_time'] = pd.to_datetime(loans['planned_expiration_time'], errors='coerce')\n",
    "loans['yearP']=pd.DataFrame(loans['planned_expiration_time'].dt.year) \n",
    "loans['ydayP']=pd.DataFrame(loans['planned_expiration_time'].dt.day) \n",
    "loans['ydayD']=pd.DataFrame(loans['disburse_time'].dt.day) \n",
    "loans[['disburse_time','planned_expiration_time','yearP','yearD','ydayP','ydayD','loan_amount']].head(3)"
   ]
  },
  {
   "cell_type": "markdown",
   "metadata": {},
   "source": [
    "Si contano le righe ove l'anno ('yearD') in cui è stato effettuato il prestito è maggiore, minore o uguale all'anno ('yearP') di scadenza del prestito (loan), allo scopo di avere un'idea della distribuzione delle osservazioni per generare un'algoritmo efficiente. "
   ]
  },
  {
   "cell_type": "code",
   "execution_count": 70,
   "metadata": {},
   "outputs": [
    {
     "name": "stdout",
     "output_type": "stream",
     "text": [
      "150609 cases where disburse year comes before planned expiration year\n",
      "1546 cases where disburse year comes after planned expiration year\n",
      "892785 cases where disburse year equals planned expiration year\n",
      "time: 991 ms\n"
     ]
    }
   ],
   "source": [
    "print(len(loans[loans['yearD']<loans['yearP']]), \"cases where disburse year comes before planned expiration year\")\n",
    "print(len(loans[loans['yearD']>loans['yearP']]), \"cases where disburse year comes after planned expiration year\")\n",
    "print(len(loans[loans['yearD']==loans['yearP']]),\"cases where disburse year equals planned expiration year\")"
   ]
  },
  {
   "cell_type": "markdown",
   "metadata": {},
   "source": [
    "Di queste 892785 righe, 13384 hanno 'duration' negativa e si contraddistinguono per far parte (in aggiunta) dell'insieme di 1546 casi in cui la scadenza è avvenuta prima dell'esborso."
   ]
  },
  {
   "cell_type": "code",
   "execution_count": 71,
   "metadata": {},
   "outputs": [
    {
     "data": {
      "text/plain": [
       "13384"
      ]
     },
     "execution_count": 71,
     "metadata": {},
     "output_type": "execute_result"
    },
    {
     "name": "stdout",
     "output_type": "stream",
     "text": [
      "time: 88.7 ms\n"
     ]
    }
   ],
   "source": [
    "poor=loans[['country_code','country_name','yearD','yearP','duration']][(loans['duration']<0) & (loans['yearD']==loans['yearP'])]\n",
    "# Si applica una doppia condizione per estrapolare le sole righe che si contraddistinguono per 'duration' negativa e anno di scadenza uguale all'anno del prestito.\n",
    "len(poor)"
   ]
  },
  {
   "cell_type": "markdown",
   "metadata": {},
   "source": [
    "I principali prestiti caratterizzati da 'planned_expiration_time' minore di 'disburse_time' (conclusi dopo la scadenza), hanno luogo in Kenya (36%), in Nigeria (21%) e in Ghana (6%).\n",
    "La maggior parte delle nazioni in questione è povera oppure è del Terzo Mondo (escludendo gli Stati Uniti), da cui è presumibile che si tenda a prestare soldi solo in caso di disponibilità finanziaria."
   ]
  },
  {
   "cell_type": "code",
   "execution_count": 72,
   "metadata": {},
   "outputs": [
    {
     "data": {
      "text/plain": [
       "country_name\n",
       "Kenya            5401\n",
       "Nigeria          3186\n",
       "Ghana             851\n",
       "United States     790\n",
       "India             385\n",
       "South Africa      354\n",
       "Tanzania          318\n",
       "Peru              255\n",
       "Zambia            239\n",
       "Malawi            223\n",
       "Name: country_name, dtype: int64"
      ]
     },
     "execution_count": 72,
     "metadata": {},
     "output_type": "execute_result"
    },
    {
     "name": "stdout",
     "output_type": "stream",
     "text": [
      "time: 114 ms\n"
     ]
    }
   ],
   "source": [
    "mac=poor.append(loans[['country_code','country_name','yearD','yearP','duration']][loans['yearD']>loans['yearP']]) \n",
    "mac['country_name'].groupby(mac['country_name']).count().sort_values(ascending=False).head(10) \n",
    "# Si contano quanti loans sono stati effettuati per paese"
   ]
  },
  {
   "cell_type": "markdown",
   "metadata": {},
   "source": [
    "Dopo la fase esplorativa dei dati, ci si focalizza nel risolvere il nocciolo del problema. \n",
    "Si crea una funzione, nominata 'assign', che richiede in input cinque variabili già descritte precedentemente: 'yearP', 'yearD', 'ydayP', 'ydayD' e 'funded'. \n",
    "Sono stati scelti identici nomi a quelli già assegnati alle colonne per comodità. La funzione è formata dai seguenti punti:\n",
    "    \n",
    "1. si calcola 'diff_anni' in modo da ricavare il numero di anni che intercorre tra 'yearP' e 'yearD'\n",
    "2. si calcola 'time', che coincide con 'duration', come somma dei giorni (365-'ydayD') che mancano per concludere l'anno di 'disburse_time', dei giorni di \n",
    "'planned_expiration_time' e dei 365 giorni per ogni anno (365 * 'diff_anni') presente prima di 'yearD' e dopo 'yearP'. Viene ripetuto il processo perchè non incide particolarmente sul tempo d'esecuzione e genera un valore pronto per l'utilizzo, mentre 'duration' è una series quindi una collezione di dati da cui sarebbe necessario estrarre ogni singolo valore.\n",
    "3. nel dizionario, originato al di fuori della funzione, si somma all'ammontare associato all'anno 'yearD' la quantità che è stata prestata ('funded' o 'loan_amount')\n",
    "in proporzione ai giorni rimanenti per concludere l'anno di 'disburse_time' fratto la durata 'time'.\n",
    "4. nel dizionario si somma all'ammontare associato all'anno 'yearP' la quantità 'loan_amount' fratto la durata 'time'.\n",
    "5. dopo aver assegnato nei punti 3. e 4. la porzione di denaro degli anni estremi, si considerano gli anni intermedi. \n",
    "   Finchè 'diff_anni' è maggiore di 0, itero il procedimento seguente: \n",
    "   - nel dizionario si addiziona all'ammontare associato alla differenza tra 'yearP' e 'diff_anni', una porzione di 'loan_amount' pari a (funded * 365 / time)\n",
    "   - 'diff_anni' diminuisce di un'unità\n",
    "\n",
    "Dopo aver definito la funzione 'assign', si chiama 'dizio' il dizionario che associa uno zero a tutti gli anni compresi tra il minimo comparso nella variabile 'yearD'(che è notoriamente più piccola di yearP) e il maggiore in 'yearP. Poi si osservano in contemporanea le variabili: 'yearP', 'yearD', 'ydayP', 'ydayD' e 'funded'. \n",
    "- Se gli anni ('yearD' e 'yearP') coincidono, allora si aggiunge all'anno 'yearD' l'intero ammontare 'funded'.\n",
    "- se 'yearD' minore 'yearP', si applica la funzione appena esposta ('assign').\n",
    "- se 'yearD' maggiore 'yearP', si lancia 'assign' ma invertendo 'yearD' con 'yearP' e 'ydayP' con 'ydayD' perchè, nella stessa maniera, si sono rovesciati i ruoli di 'disburse_time' e 'planned_expiration_time' e quindi bisogna riequilibrare il sistema.\n",
    "\n",
    "La tabella 'punto12' è formata da due colonne: \n",
    "- le chiavi del dizionario corrispondenti agli anni ('Year')\n",
    "- i valori del dizionario, ossia il valore dei flussi di denaro in proporzione ad ogni anno. Si cambia il formato di questi valori da notazione scientifica (tramite le potenze del 10) a notazione con virgola fissa grazie alla sintassi '{0:f}'. "
   ]
  },
  {
   "cell_type": "code",
   "execution_count": 73,
   "metadata": {},
   "outputs": [
    {
     "data": {
      "text/html": [
       "<div>\n",
       "<style scoped>\n",
       "    .dataframe tbody tr th:only-of-type {\n",
       "        vertical-align: middle;\n",
       "    }\n",
       "\n",
       "    .dataframe tbody tr th {\n",
       "        vertical-align: top;\n",
       "    }\n",
       "\n",
       "    .dataframe thead th {\n",
       "        text-align: right;\n",
       "    }\n",
       "</style>\n",
       "<table border=\"1\" class=\"dataframe\">\n",
       "  <thead>\n",
       "    <tr style=\"text-align: right;\">\n",
       "      <th></th>\n",
       "      <th>Year</th>\n",
       "      <th>Tot_Amount</th>\n",
       "    </tr>\n",
       "  </thead>\n",
       "  <tbody>\n",
       "    <tr>\n",
       "      <th>0</th>\n",
       "      <td>2011</td>\n",
       "      <td>2522968.023171</td>\n",
       "    </tr>\n",
       "    <tr>\n",
       "      <th>1</th>\n",
       "      <td>2012</td>\n",
       "      <td>118376261.309507</td>\n",
       "    </tr>\n",
       "    <tr>\n",
       "      <th>2</th>\n",
       "      <td>2013</td>\n",
       "      <td>131345024.909057</td>\n",
       "    </tr>\n",
       "    <tr>\n",
       "      <th>3</th>\n",
       "      <td>2014</td>\n",
       "      <td>152631815.626753</td>\n",
       "    </tr>\n",
       "    <tr>\n",
       "      <th>4</th>\n",
       "      <td>2015</td>\n",
       "      <td>156259182.372450</td>\n",
       "    </tr>\n",
       "    <tr>\n",
       "      <th>5</th>\n",
       "      <td>2016</td>\n",
       "      <td>161302100.309814</td>\n",
       "    </tr>\n",
       "    <tr>\n",
       "      <th>6</th>\n",
       "      <td>2017</td>\n",
       "      <td>165967693.622757</td>\n",
       "    </tr>\n",
       "    <tr>\n",
       "      <th>7</th>\n",
       "      <td>2018</td>\n",
       "      <td>1332578.826490</td>\n",
       "    </tr>\n",
       "  </tbody>\n",
       "</table>\n",
       "</div>"
      ],
      "text/plain": [
       "   Year        Tot_Amount\n",
       "0  2011    2522968.023171\n",
       "1  2012  118376261.309507\n",
       "2  2013  131345024.909057\n",
       "3  2014  152631815.626753\n",
       "4  2015  156259182.372450\n",
       "5  2016  161302100.309814\n",
       "6  2017  165967693.622757\n",
       "7  2018    1332578.826490"
      ]
     },
     "execution_count": 73,
     "metadata": {},
     "output_type": "execute_result"
    },
    {
     "name": "stdout",
     "output_type": "stream",
     "text": [
      "time: 3.1 s\n"
     ]
    }
   ],
   "source": [
    "def assign(yearP,yearD,ydayP,ydayD,funded):    \n",
    "        diff_anni=yearP-yearD-1                  \n",
    "        time=365-ydayD+ydayP+365*(diff_anni)     \n",
    "        dizio[yearD]+=funded*(365-ydayD)/time    \n",
    "        dizio[yearP]+=funded*(ydayP)/time        \n",
    "        while diff_anni >0:                      \n",
    "            dizio[yearP-diff_anni]+=funded*365/time \n",
    "            diff_anni-=1\n",
    "        \n",
    "dizio={x:0 for x in range(min(loans['yearD']),max(loans['yearP'])+1)}   #creo un dizionario \n",
    "for yearD,yearP,ydayD,ydayP,funded in zip(loans['yearD'],loans['yearP'],loans['ydayD'],loans['ydayP'],loans['loan_amount']):\n",
    "    if (yearD)==(yearP):\n",
    "        dizio[yearD]+=funded               \n",
    "    elif (yearD)<(yearP):\n",
    "        assign(yearP,yearD,ydayP,ydayD,funded)  \n",
    "    else:                                       \n",
    "        assign(yearD,yearP,ydayD,ydayP,funded)\n",
    "punto12=pd.DataFrame({'Year':list(dizio.keys()),'Tot_Amount':list([\"{0:f}\".format(x) for x in dizio.values()])},columns=['Year','Tot_Amount'])\n",
    "punto12"
   ]
  },
  {
   "cell_type": "code",
   "execution_count": 74,
   "metadata": {},
   "outputs": [
    {
     "data": {
      "text/plain": [
       "Text(0.5, 1.0, 'Time series of total amount of loans')"
      ]
     },
     "execution_count": 74,
     "metadata": {},
     "output_type": "execute_result"
    },
    {
     "data": {
      "image/png": "[encoded data removed]",
      "text/plain": [
       "<Figure size 432x288 with 1 Axes>"
      ]
     },
     "metadata": {
      "needs_background": "light"
     },
     "output_type": "display_data"
    },
    {
     "name": "stdout",
     "output_type": "stream",
     "text": [
      "time: 578 ms\n"
     ]
    }
   ],
   "source": [
    "plt.grid(linestyle='--')    #si crea una griglia formata all'interno da linee tratteggiate\n",
    "plt.xlim(2010,2017)         #l'asse delle ascisse comincia dall'anno 2010 e termina all'anno 2017\n",
    "plt.xticks(list(dizio.keys())[0:7]) #si considera solo la porzione di grafico che parte dal 2010 fino al 2017, escludendo l'anno 2018 inconcluso\n",
    "sea.lineplot(list(dizio.keys()),list(dizio.values()), data=punto12,color='blue',marker='s') \n",
    "#si disegna la serie storica con i dati in 'dizio'\n",
    "plt.title('Time series of total amount of loans')"
   ]
  },
  {
   "cell_type": "markdown",
   "metadata": {},
   "source": [
    "Per dimostrare di aver ottenuto risultati coerenti con il dataset iniziale, confronto la somma dei valori del dizionario con la somma dei soldi prestati, memorizzati in 'loan_amount'."
   ]
  },
  {
   "cell_type": "code",
   "execution_count": 75,
   "metadata": {},
   "outputs": [
    {
     "data": {
      "text/plain": [
       "True"
      ]
     },
     "execution_count": 75,
     "metadata": {},
     "output_type": "execute_result"
    },
    {
     "name": "stdout",
     "output_type": "stream",
     "text": [
      "time: 275 ms\n"
     ]
    }
   ],
   "source": [
    "round(sum(dizio.values()),5)==sum(loans['loan_amount'])   \n",
    "# 889737625: totale dei soldi circolati come prestiti, dal 2011 al 2018."
   ]
  }
 ],
 "metadata": {
  "kernelspec": {
   "display_name": "Python 3",
   "language": "python",
   "name": "python3"
  },
  "language_info": {
   "codemirror_mode": {
    "name": "ipython",
    "version": 3
   },
   "file_extension": ".py",
   "mimetype": "text/x-python",
   "name": "python",
   "nbconvert_exporter": "python",
   "pygments_lexer": "ipython3",
   "version": "3.7.3"
  }
 },
 "nbformat": 4,
 "nbformat_minor": 2
}
